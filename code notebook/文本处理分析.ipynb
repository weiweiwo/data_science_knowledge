{
 "cells": [
  {
   "cell_type": "markdown",
   "metadata": {
    "colab_type": "text",
    "id": "X-cp_kAxCAY2"
   },
   "source": [
    "# Amazon Fine Food Reviews Analysis\n",
    "\n",
    "\n",
    "Data Source: https://www.kaggle.com/snap/amazon-fine-food-reviews <br>\n",
    "\n",
    "EDA: https://nycdatascience.com/blog/student-works/amazon-fine-foods-visualization/\n",
    "\n",
    "\n",
    "The Amazon Fine Food Reviews dataset consists of reviews of fine foods from Amazon.<br>\n",
    "\n",
    "Number of reviews: 568,454<br>\n",
    "Number of users: 256,059<br>\n",
    "Number of products: 74,258<br>\n",
    "Timespan: Oct 1999 - Oct 2012<br>\n",
    "Number of Attributes/Columns in data: 10 \n",
    "\n",
    "Attribute Information:\n",
    "\n",
    "1. Id\n",
    "2. ProductId - unique identifier for the product\n",
    "3. UserId - unqiue identifier for the user\n",
    "4. ProfileName\n",
    "5. HelpfulnessNumerator - number of users who found the review helpful 有用做分子\n",
    "6. HelpfulnessDenominator - number of users who indicated whether they found the review helpful or not 有无用总和\n",
    "7. Score - rating between 1 and 5\n",
    "8. Time - timestamp for the review\n",
    "9. Summary - brief summary of the review\n",
    "10. Text - text of the review\n",
    "\n",
    "\n",
    "#### Objective:\n",
    "Given a review, determine whether the review is positive (Rating of 4 or 5) or negative (rating of 1 or 2).\n",
    "\n",
    "<br>\n",
    "[Q] How to determine if a review is positive or negative?<br>\n",
    "<br> \n",
    "[Ans] We could use the Score/Rating. A rating of 4 or 5 could be cosnidered a positive review. A review of 1 or 2 could be considered negative. A review of 3 is nuetral and ignored. This is an approximate and proxy way of determining the polarity (positivity/negativity) of a review.\n",
    "\n",
    "\n"
   ]
  },
  {
   "cell_type": "code",
   "execution_count": 101,
   "metadata": {
    "colab": {
     "base_uri": "https://localhost:8080/",
     "height": 201
    },
    "colab_type": "code",
    "executionInfo": {
     "elapsed": 1198,
     "status": "error",
     "timestamp": 1568459387621,
     "user": {
      "displayName": "Applied AI Course",
      "photoUrl": "https://lh3.googleusercontent.com/a-/AAuE7mC6pMrRYsn22C9tuTEP5-bjFj-F25a3idPwqTuaHQ=s64",
      "userId": "06629147635963609455"
     },
     "user_tz": -330
    },
    "id": "snjMYFygdZ-C",
    "outputId": "fefa78f2-293f-4fa3-9f7d-e01e5b69bfe9"
   },
   "outputs": [],
   "source": [
    "from scipy.sparse import csr_matrix\n",
    "\n",
    "lst = [1, 2, 3, 4, 5, 6, 7]\n",
    "\n",
    "ans = csr_matrix(lst)"
   ]
  },
  {
   "cell_type": "code",
   "execution_count": 104,
   "metadata": {},
   "outputs": [
    {
     "data": {
      "text/plain": [
       "array([1, 2, 3, 4, 5, 6, 7], dtype=int32)"
      ]
     },
     "execution_count": 104,
     "metadata": {},
     "output_type": "execute_result"
    }
   ],
   "source": [
    "ans.toarray()[0]"
   ]
  },
  {
   "cell_type": "markdown",
   "metadata": {
    "colab_type": "text",
    "id": "WHC_UQTuCAY4"
   },
   "source": [
    "## Loading the data\n",
    "\n",
    "The dataset is available in two forms\n",
    "1. .csv file\n",
    "2. SQLite Database\n",
    "\n",
    "In order to load the data, We have used the SQLITE dataset as it easier to query the data and visualise the data efficiently.\n",
    "<br> \n",
    "\n",
    "Here as we only want to get the global sentiment of the recommendations (positive or negative), we will purposefully ignore all Scores equal to 3. If the score id above 3, then the recommendation wil be set to \"positive\". Otherwise, it will be set to \"negative\"."
   ]
  },
  {
   "cell_type": "code",
   "execution_count": 105,
   "metadata": {
    "colab": {},
    "colab_type": "code",
    "id": "PvDdRsHgCAY5",
    "outputId": "65b237f2-2ead-4721-f95a-15ed0bb06d04"
   },
   "outputs": [],
   "source": [
    "%matplotlib inline\n",
    "import warnings\n",
    "warnings.filterwarnings(\"ignore\")\n",
    "\n",
    "import sqlite3\n",
    "import pandas as pd\n",
    "import numpy as np\n",
    "import nltk\n",
    "import string\n",
    "import matplotlib.pyplot as plt\n",
    "import seaborn as sns\n",
    "from sklearn.feature_extraction.text import TfidfTransformer\n",
    "from sklearn.feature_extraction.text import TfidfVectorizer\n",
    "\n",
    "from sklearn.feature_extraction.text import CountVectorizer\n",
    "from sklearn.metrics import confusion_matrix\n",
    "from sklearn import metrics\n",
    "from sklearn.metrics import roc_curve, auc\n",
    "from nltk.stem.porter import PorterStemmer\n",
    "\n",
    "import re\n",
    "# Tutorial about Python regular expressions: https://pymotw.com/2/re/\n",
    "import string\n",
    "from nltk.corpus import stopwords\n",
    "from nltk.stem import PorterStemmer\n",
    "from nltk.stem.wordnet import WordNetLemmatizer\n",
    "\n",
    "from gensim.models import Word2Vec\n",
    "from gensim.models import KeyedVectors\n",
    "import pickle\n",
    "\n",
    "from tqdm import tqdm\n",
    "import os"
   ]
  },
  {
   "cell_type": "code",
   "execution_count": 106,
   "metadata": {},
   "outputs": [
    {
     "data": {
      "text/plain": [
       "'D:\\\\jupyter\\\\notebook\\\\自写函数\\\\Core_File\\\\Data science note'"
      ]
     },
     "execution_count": 106,
     "metadata": {},
     "output_type": "execute_result"
    }
   ],
   "source": [
    "os.getcwd()"
   ]
  },
  {
   "cell_type": "code",
   "execution_count": 11,
   "metadata": {},
   "outputs": [],
   "source": [
    "# os.chdir(\"./Data science note\")"
   ]
  },
  {
   "cell_type": "markdown",
   "metadata": {
    "colab_type": "text",
    "id": "QOI7X2YgCAY_"
   },
   "source": [
    "# [1]. Reading Data"
   ]
  },
  {
   "cell_type": "code",
   "execution_count": 107,
   "metadata": {
    "colab": {},
    "colab_type": "code",
    "id": "3iYH2p1ECAZA",
    "outputId": "3feca330-8e21-4173-ad7c-88eb4d81668e"
   },
   "outputs": [
    {
     "name": "stdout",
     "output_type": "stream",
     "text": [
      "Number of data points in our data (5000, 10)\n"
     ]
    },
    {
     "data": {
      "text/html": [
       "<div>\n",
       "<style scoped>\n",
       "    .dataframe tbody tr th:only-of-type {\n",
       "        vertical-align: middle;\n",
       "    }\n",
       "\n",
       "    .dataframe tbody tr th {\n",
       "        vertical-align: top;\n",
       "    }\n",
       "\n",
       "    .dataframe thead th {\n",
       "        text-align: right;\n",
       "    }\n",
       "</style>\n",
       "<table border=\"1\" class=\"dataframe\">\n",
       "  <thead>\n",
       "    <tr style=\"text-align: right;\">\n",
       "      <th></th>\n",
       "      <th>Id</th>\n",
       "      <th>ProductId</th>\n",
       "      <th>UserId</th>\n",
       "      <th>ProfileName</th>\n",
       "      <th>HelpfulnessNumerator</th>\n",
       "      <th>HelpfulnessDenominator</th>\n",
       "      <th>Score</th>\n",
       "      <th>Time</th>\n",
       "      <th>Summary</th>\n",
       "      <th>Text</th>\n",
       "    </tr>\n",
       "  </thead>\n",
       "  <tbody>\n",
       "    <tr>\n",
       "      <th>0</th>\n",
       "      <td>1</td>\n",
       "      <td>B001E4KFG0</td>\n",
       "      <td>A3SGXH7AUHU8GW</td>\n",
       "      <td>delmartian</td>\n",
       "      <td>1</td>\n",
       "      <td>1</td>\n",
       "      <td>1</td>\n",
       "      <td>1303862400</td>\n",
       "      <td>Good Quality Dog Food</td>\n",
       "      <td>I have bought several of the Vitality canned d...</td>\n",
       "    </tr>\n",
       "    <tr>\n",
       "      <th>1</th>\n",
       "      <td>2</td>\n",
       "      <td>B00813GRG4</td>\n",
       "      <td>A1D87F6ZCVE5NK</td>\n",
       "      <td>dll pa</td>\n",
       "      <td>0</td>\n",
       "      <td>0</td>\n",
       "      <td>0</td>\n",
       "      <td>1346976000</td>\n",
       "      <td>Not as Advertised</td>\n",
       "      <td>Product arrived labeled as Jumbo Salted Peanut...</td>\n",
       "    </tr>\n",
       "    <tr>\n",
       "      <th>2</th>\n",
       "      <td>3</td>\n",
       "      <td>B000LQOCH0</td>\n",
       "      <td>ABXLMWJIXXAIN</td>\n",
       "      <td>Natalia Corres \"Natalia Corres\"</td>\n",
       "      <td>1</td>\n",
       "      <td>1</td>\n",
       "      <td>1</td>\n",
       "      <td>1219017600</td>\n",
       "      <td>\"Delight\" says it all</td>\n",
       "      <td>This is a confection that has been around a fe...</td>\n",
       "    </tr>\n",
       "  </tbody>\n",
       "</table>\n",
       "</div>"
      ],
      "text/plain": [
       "   Id   ProductId          UserId                      ProfileName  \\\n",
       "0   1  B001E4KFG0  A3SGXH7AUHU8GW                       delmartian   \n",
       "1   2  B00813GRG4  A1D87F6ZCVE5NK                           dll pa   \n",
       "2   3  B000LQOCH0   ABXLMWJIXXAIN  Natalia Corres \"Natalia Corres\"   \n",
       "\n",
       "   HelpfulnessNumerator  HelpfulnessDenominator  Score        Time  \\\n",
       "0                     1                       1      1  1303862400   \n",
       "1                     0                       0      0  1346976000   \n",
       "2                     1                       1      1  1219017600   \n",
       "\n",
       "                 Summary                                               Text  \n",
       "0  Good Quality Dog Food  I have bought several of the Vitality canned d...  \n",
       "1      Not as Advertised  Product arrived labeled as Jumbo Salted Peanut...  \n",
       "2  \"Delight\" says it all  This is a confection that has been around a fe...  "
      ]
     },
     "execution_count": 107,
     "metadata": {},
     "output_type": "execute_result"
    }
   ],
   "source": [
    "# using the SQLite Table to read data.\n",
    "con = sqlite3.connect('database.sqlite') \n",
    "#filtering only positive and negative reviews i.e. \n",
    "# not taking into consideration those reviews with Score=3\n",
    "# SELECT * FROM Reviews WHERE Score != 3 LIMIT 500000, will give top 500000 data points\n",
    "# you can change the number to any other number based on your computing power\n",
    "\n",
    "# filtered_data = pd.read_sql_query(\"\"\" SELECT * FROM Reviews WHERE Score != 3 LIMIT 500000\"\"\", con) \n",
    "# for tsne assignment you can take 5k data points\n",
    "\n",
    "# 剔除为3的评分，保留5000个数值\n",
    "filtered_data = pd.read_sql_query(\"\"\" SELECT * FROM Reviews WHERE Score != 3 LIMIT 5000\"\"\", con) \n",
    "\n",
    "# Give reviews with Score>3 a positive rating, and reviews with a score<3 a negative rating.\n",
    "# 评分小于3的为负面评论 0，相反为1\n",
    "def partition(x):\n",
    "    if x < 3:\n",
    "        return 0\n",
    "    return 1\n",
    "\n",
    "#changing reviews with score less than 3 to be positive and vice-versa\n",
    "\n",
    "actualScore = filtered_data['Score']\n",
    "positiveNegative = actualScore.map(partition) \n",
    "filtered_data['Score'] = positiveNegative\n",
    "print(\"Number of data points in our data\", filtered_data.shape)\n",
    "filtered_data.head(3)"
   ]
  },
  {
   "cell_type": "code",
   "execution_count": 108,
   "metadata": {
    "colab": {},
    "colab_type": "code",
    "id": "I1jf03kECAZF"
   },
   "outputs": [],
   "source": [
    "display = pd.read_sql_query(\"\"\"\n",
    "SELECT UserId, ProductId, ProfileName, Time, Score, Text, COUNT(*)\n",
    "FROM Reviews\n",
    "GROUP BY UserId\n",
    "HAVING COUNT(*)>1\n",
    "\"\"\", con)"
   ]
  },
  {
   "cell_type": "code",
   "execution_count": 109,
   "metadata": {
    "colab": {},
    "colab_type": "code",
    "id": "Ja8xSefOCAZH",
    "outputId": "2cbd0705-618b-47cf-ce18-f3d0d4063cbf"
   },
   "outputs": [
    {
     "name": "stdout",
     "output_type": "stream",
     "text": [
      "(80668, 7)\n"
     ]
    },
    {
     "data": {
      "text/html": [
       "<div>\n",
       "<style scoped>\n",
       "    .dataframe tbody tr th:only-of-type {\n",
       "        vertical-align: middle;\n",
       "    }\n",
       "\n",
       "    .dataframe tbody tr th {\n",
       "        vertical-align: top;\n",
       "    }\n",
       "\n",
       "    .dataframe thead th {\n",
       "        text-align: right;\n",
       "    }\n",
       "</style>\n",
       "<table border=\"1\" class=\"dataframe\">\n",
       "  <thead>\n",
       "    <tr style=\"text-align: right;\">\n",
       "      <th></th>\n",
       "      <th>UserId</th>\n",
       "      <th>ProductId</th>\n",
       "      <th>ProfileName</th>\n",
       "      <th>Time</th>\n",
       "      <th>Score</th>\n",
       "      <th>Text</th>\n",
       "      <th>COUNT(*)</th>\n",
       "    </tr>\n",
       "  </thead>\n",
       "  <tbody>\n",
       "    <tr>\n",
       "      <th>0</th>\n",
       "      <td>#oc-R115TNMSPFT9I7</td>\n",
       "      <td>B005ZBZLT4</td>\n",
       "      <td>Breyton</td>\n",
       "      <td>1331510400</td>\n",
       "      <td>2</td>\n",
       "      <td>Overall its just OK when considering the price...</td>\n",
       "      <td>2</td>\n",
       "    </tr>\n",
       "    <tr>\n",
       "      <th>1</th>\n",
       "      <td>#oc-R11D9D7SHXIJB9</td>\n",
       "      <td>B005HG9ESG</td>\n",
       "      <td>Louis E. Emory \"hoppy\"</td>\n",
       "      <td>1342396800</td>\n",
       "      <td>5</td>\n",
       "      <td>My wife has recurring extreme muscle spasms, u...</td>\n",
       "      <td>3</td>\n",
       "    </tr>\n",
       "    <tr>\n",
       "      <th>2</th>\n",
       "      <td>#oc-R11DNU2NBKQ23Z</td>\n",
       "      <td>B005ZBZLT4</td>\n",
       "      <td>Kim Cieszykowski</td>\n",
       "      <td>1348531200</td>\n",
       "      <td>1</td>\n",
       "      <td>This coffee is horrible and unfortunately not ...</td>\n",
       "      <td>2</td>\n",
       "    </tr>\n",
       "    <tr>\n",
       "      <th>3</th>\n",
       "      <td>#oc-R11O5J5ZVQE25C</td>\n",
       "      <td>B005HG9ESG</td>\n",
       "      <td>Penguin Chick</td>\n",
       "      <td>1346889600</td>\n",
       "      <td>5</td>\n",
       "      <td>This will be the bottle that you grab from the...</td>\n",
       "      <td>3</td>\n",
       "    </tr>\n",
       "    <tr>\n",
       "      <th>4</th>\n",
       "      <td>#oc-R12KPBODL2B5ZD</td>\n",
       "      <td>B007OSBEV0</td>\n",
       "      <td>Christopher P. Presta</td>\n",
       "      <td>1348617600</td>\n",
       "      <td>1</td>\n",
       "      <td>I didnt like this coffee. Instead of telling y...</td>\n",
       "      <td>2</td>\n",
       "    </tr>\n",
       "  </tbody>\n",
       "</table>\n",
       "</div>"
      ],
      "text/plain": [
       "               UserId   ProductId             ProfileName        Time  Score  \\\n",
       "0  #oc-R115TNMSPFT9I7  B005ZBZLT4                 Breyton  1331510400      2   \n",
       "1  #oc-R11D9D7SHXIJB9  B005HG9ESG  Louis E. Emory \"hoppy\"  1342396800      5   \n",
       "2  #oc-R11DNU2NBKQ23Z  B005ZBZLT4        Kim Cieszykowski  1348531200      1   \n",
       "3  #oc-R11O5J5ZVQE25C  B005HG9ESG           Penguin Chick  1346889600      5   \n",
       "4  #oc-R12KPBODL2B5ZD  B007OSBEV0   Christopher P. Presta  1348617600      1   \n",
       "\n",
       "                                                Text  COUNT(*)  \n",
       "0  Overall its just OK when considering the price...         2  \n",
       "1  My wife has recurring extreme muscle spasms, u...         3  \n",
       "2  This coffee is horrible and unfortunately not ...         2  \n",
       "3  This will be the bottle that you grab from the...         3  \n",
       "4  I didnt like this coffee. Instead of telling y...         2  "
      ]
     },
     "execution_count": 109,
     "metadata": {},
     "output_type": "execute_result"
    }
   ],
   "source": [
    "print(display.shape)\n",
    "display.head()"
   ]
  },
  {
   "cell_type": "code",
   "execution_count": 110,
   "metadata": {
    "colab": {},
    "colab_type": "code",
    "id": "u5ctUTW-CAZK",
    "outputId": "41439570-0ff9-44bb-9c05-e87bcb3dd6b7"
   },
   "outputs": [
    {
     "data": {
      "text/html": [
       "<div>\n",
       "<style scoped>\n",
       "    .dataframe tbody tr th:only-of-type {\n",
       "        vertical-align: middle;\n",
       "    }\n",
       "\n",
       "    .dataframe tbody tr th {\n",
       "        vertical-align: top;\n",
       "    }\n",
       "\n",
       "    .dataframe thead th {\n",
       "        text-align: right;\n",
       "    }\n",
       "</style>\n",
       "<table border=\"1\" class=\"dataframe\">\n",
       "  <thead>\n",
       "    <tr style=\"text-align: right;\">\n",
       "      <th></th>\n",
       "      <th>UserId</th>\n",
       "      <th>ProductId</th>\n",
       "      <th>ProfileName</th>\n",
       "      <th>Time</th>\n",
       "      <th>Score</th>\n",
       "      <th>Text</th>\n",
       "      <th>COUNT(*)</th>\n",
       "    </tr>\n",
       "  </thead>\n",
       "  <tbody>\n",
       "    <tr>\n",
       "      <th>80638</th>\n",
       "      <td>AZY10LLTJ71NX</td>\n",
       "      <td>B001ATMQK2</td>\n",
       "      <td>undertheshrine \"undertheshrine\"</td>\n",
       "      <td>1296691200</td>\n",
       "      <td>5</td>\n",
       "      <td>I bought this 6 pack because for the price tha...</td>\n",
       "      <td>5</td>\n",
       "    </tr>\n",
       "  </tbody>\n",
       "</table>\n",
       "</div>"
      ],
      "text/plain": [
       "              UserId   ProductId                      ProfileName        Time  \\\n",
       "80638  AZY10LLTJ71NX  B001ATMQK2  undertheshrine \"undertheshrine\"  1296691200   \n",
       "\n",
       "       Score                                               Text  COUNT(*)  \n",
       "80638      5  I bought this 6 pack because for the price tha...         5  "
      ]
     },
     "execution_count": 110,
     "metadata": {},
     "output_type": "execute_result"
    }
   ],
   "source": [
    "display[display['UserId']=='AZY10LLTJ71NX']"
   ]
  },
  {
   "cell_type": "code",
   "execution_count": 111,
   "metadata": {
    "colab": {},
    "colab_type": "code",
    "id": "tiaXnkZxCAZO",
    "outputId": "0bbd60e6-e66b-4f20-9060-bf0cfe143b1f"
   },
   "outputs": [
    {
     "data": {
      "text/plain": [
       "393063"
      ]
     },
     "execution_count": 111,
     "metadata": {},
     "output_type": "execute_result"
    }
   ],
   "source": [
    "display['COUNT(*)'].sum()"
   ]
  },
  {
   "cell_type": "markdown",
   "metadata": {
    "colab_type": "text",
    "id": "TX5b3dc5CAZS"
   },
   "source": [
    "#  Exploratory Data Analysis\n",
    "\n",
    "## [2] Data Cleaning: Deduplication\n",
    "\n",
    "It is observed (as shown in the table below) that the reviews data had many duplicate entries. Hence it was necessary to remove duplicates in order to get unbiased results for the analysis of the data.  Following is an example:"
   ]
  },
  {
   "cell_type": "code",
   "execution_count": 112,
   "metadata": {
    "colab": {},
    "colab_type": "code",
    "id": "4jW_0WxCCAZT",
    "outputId": "4e526ab2-98f3-46ae-93dc-3e061cb06d59",
    "scrolled": false
   },
   "outputs": [
    {
     "data": {
      "text/html": [
       "<div>\n",
       "<style scoped>\n",
       "    .dataframe tbody tr th:only-of-type {\n",
       "        vertical-align: middle;\n",
       "    }\n",
       "\n",
       "    .dataframe tbody tr th {\n",
       "        vertical-align: top;\n",
       "    }\n",
       "\n",
       "    .dataframe thead th {\n",
       "        text-align: right;\n",
       "    }\n",
       "</style>\n",
       "<table border=\"1\" class=\"dataframe\">\n",
       "  <thead>\n",
       "    <tr style=\"text-align: right;\">\n",
       "      <th></th>\n",
       "      <th>Id</th>\n",
       "      <th>ProductId</th>\n",
       "      <th>UserId</th>\n",
       "      <th>ProfileName</th>\n",
       "      <th>HelpfulnessNumerator</th>\n",
       "      <th>HelpfulnessDenominator</th>\n",
       "      <th>Score</th>\n",
       "      <th>Time</th>\n",
       "      <th>Summary</th>\n",
       "      <th>Text</th>\n",
       "    </tr>\n",
       "  </thead>\n",
       "  <tbody>\n",
       "    <tr>\n",
       "      <th>0</th>\n",
       "      <td>78445</td>\n",
       "      <td>B000HDL1RQ</td>\n",
       "      <td>AR5J8UI46CURR</td>\n",
       "      <td>Geetha Krishnan</td>\n",
       "      <td>2</td>\n",
       "      <td>2</td>\n",
       "      <td>5</td>\n",
       "      <td>1199577600</td>\n",
       "      <td>LOACKER QUADRATINI VANILLA WAFERS</td>\n",
       "      <td>DELICIOUS WAFERS. I FIND THAT EUROPEAN WAFERS ...</td>\n",
       "    </tr>\n",
       "    <tr>\n",
       "      <th>1</th>\n",
       "      <td>138317</td>\n",
       "      <td>B000HDOPYC</td>\n",
       "      <td>AR5J8UI46CURR</td>\n",
       "      <td>Geetha Krishnan</td>\n",
       "      <td>2</td>\n",
       "      <td>2</td>\n",
       "      <td>5</td>\n",
       "      <td>1199577600</td>\n",
       "      <td>LOACKER QUADRATINI VANILLA WAFERS</td>\n",
       "      <td>DELICIOUS WAFERS. I FIND THAT EUROPEAN WAFERS ...</td>\n",
       "    </tr>\n",
       "    <tr>\n",
       "      <th>2</th>\n",
       "      <td>138277</td>\n",
       "      <td>B000HDOPYM</td>\n",
       "      <td>AR5J8UI46CURR</td>\n",
       "      <td>Geetha Krishnan</td>\n",
       "      <td>2</td>\n",
       "      <td>2</td>\n",
       "      <td>5</td>\n",
       "      <td>1199577600</td>\n",
       "      <td>LOACKER QUADRATINI VANILLA WAFERS</td>\n",
       "      <td>DELICIOUS WAFERS. I FIND THAT EUROPEAN WAFERS ...</td>\n",
       "    </tr>\n",
       "    <tr>\n",
       "      <th>3</th>\n",
       "      <td>73791</td>\n",
       "      <td>B000HDOPZG</td>\n",
       "      <td>AR5J8UI46CURR</td>\n",
       "      <td>Geetha Krishnan</td>\n",
       "      <td>2</td>\n",
       "      <td>2</td>\n",
       "      <td>5</td>\n",
       "      <td>1199577600</td>\n",
       "      <td>LOACKER QUADRATINI VANILLA WAFERS</td>\n",
       "      <td>DELICIOUS WAFERS. I FIND THAT EUROPEAN WAFERS ...</td>\n",
       "    </tr>\n",
       "    <tr>\n",
       "      <th>4</th>\n",
       "      <td>155049</td>\n",
       "      <td>B000PAQ75C</td>\n",
       "      <td>AR5J8UI46CURR</td>\n",
       "      <td>Geetha Krishnan</td>\n",
       "      <td>2</td>\n",
       "      <td>2</td>\n",
       "      <td>5</td>\n",
       "      <td>1199577600</td>\n",
       "      <td>LOACKER QUADRATINI VANILLA WAFERS</td>\n",
       "      <td>DELICIOUS WAFERS. I FIND THAT EUROPEAN WAFERS ...</td>\n",
       "    </tr>\n",
       "  </tbody>\n",
       "</table>\n",
       "</div>"
      ],
      "text/plain": [
       "       Id   ProductId         UserId      ProfileName  HelpfulnessNumerator  \\\n",
       "0   78445  B000HDL1RQ  AR5J8UI46CURR  Geetha Krishnan                     2   \n",
       "1  138317  B000HDOPYC  AR5J8UI46CURR  Geetha Krishnan                     2   \n",
       "2  138277  B000HDOPYM  AR5J8UI46CURR  Geetha Krishnan                     2   \n",
       "3   73791  B000HDOPZG  AR5J8UI46CURR  Geetha Krishnan                     2   \n",
       "4  155049  B000PAQ75C  AR5J8UI46CURR  Geetha Krishnan                     2   \n",
       "\n",
       "   HelpfulnessDenominator  Score        Time  \\\n",
       "0                       2      5  1199577600   \n",
       "1                       2      5  1199577600   \n",
       "2                       2      5  1199577600   \n",
       "3                       2      5  1199577600   \n",
       "4                       2      5  1199577600   \n",
       "\n",
       "                             Summary  \\\n",
       "0  LOACKER QUADRATINI VANILLA WAFERS   \n",
       "1  LOACKER QUADRATINI VANILLA WAFERS   \n",
       "2  LOACKER QUADRATINI VANILLA WAFERS   \n",
       "3  LOACKER QUADRATINI VANILLA WAFERS   \n",
       "4  LOACKER QUADRATINI VANILLA WAFERS   \n",
       "\n",
       "                                                Text  \n",
       "0  DELICIOUS WAFERS. I FIND THAT EUROPEAN WAFERS ...  \n",
       "1  DELICIOUS WAFERS. I FIND THAT EUROPEAN WAFERS ...  \n",
       "2  DELICIOUS WAFERS. I FIND THAT EUROPEAN WAFERS ...  \n",
       "3  DELICIOUS WAFERS. I FIND THAT EUROPEAN WAFERS ...  \n",
       "4  DELICIOUS WAFERS. I FIND THAT EUROPEAN WAFERS ...  "
      ]
     },
     "execution_count": 112,
     "metadata": {},
     "output_type": "execute_result"
    }
   ],
   "source": [
    "display= pd.read_sql_query(\"\"\"\n",
    "SELECT *\n",
    "FROM Reviews\n",
    "WHERE Score != 3 AND UserId=\"AR5J8UI46CURR\"\n",
    "ORDER BY ProductID\n",
    "\"\"\", con)\n",
    "display.head()"
   ]
  },
  {
   "cell_type": "markdown",
   "metadata": {
    "colab_type": "text",
    "id": "BzVTlHiMCAZV"
   },
   "source": [
    "As can be seen above the same user has multiple reviews of the with the same values for HelpfulnessNumerator, HelpfulnessDenominator, Score, Time, Summary and Text  and on doing analysis it was found that <br>\n",
    "<br> \n",
    "ProductId=B000HDOPZG was Loacker Quadratini Vanilla Wafer Cookies, 8.82-Ounce Packages (Pack of 8)<br>\n",
    "<br> \n",
    "ProductId=B000HDL1RQ was Loacker Quadratini Lemon Wafer Cookies, 8.82-Ounce Packages (Pack of 8) and so on<br>\n",
    "\n",
    "It was inferred after analysis that reviews with same parameters other than ProductId belonged to the same product just having different flavour or quantity. Hence in order to reduce redundancy it was decided to eliminate the rows having same parameters.<br>\n",
    "\n",
    "The method used for the same was that we first sort the data according to ProductId and then just keep the first similar product review and delelte the others. for eg. in the above just the review for ProductId=B000HDL1RQ remains. This method ensures that there is only one representative for each product and deduplication without sorting would lead to possibility of different representatives still existing for the same product."
   ]
  },
  {
   "cell_type": "code",
   "execution_count": 113,
   "metadata": {
    "colab": {},
    "colab_type": "code",
    "id": "DGy2NM7BCAZX"
   },
   "outputs": [],
   "source": [
    "#Sorting data according to ProductId in ascending order\n",
    "sorted_data=filtered_data.sort_values('ProductId', axis=0, ascending=True, inplace=False, kind='quicksort', na_position='last')"
   ]
  },
  {
   "cell_type": "code",
   "execution_count": 114,
   "metadata": {
    "colab": {},
    "colab_type": "code",
    "id": "8b-O13XVCAZZ",
    "outputId": "12b254d4-826d-4cfc-bb6d-455f4d5b2a4f"
   },
   "outputs": [
    {
     "data": {
      "text/plain": [
       "(4986, 10)"
      ]
     },
     "execution_count": 114,
     "metadata": {},
     "output_type": "execute_result"
    }
   ],
   "source": [
    "#Deduplication of entries\n",
    "final=sorted_data.drop_duplicates(subset={\"UserId\",\"ProfileName\",\"Time\",\"Text\"}, keep='first', inplace=False)\n",
    "final.shape"
   ]
  },
  {
   "cell_type": "code",
   "execution_count": 115,
   "metadata": {
    "colab": {},
    "colab_type": "code",
    "id": "S72Yh-rHCAZc",
    "outputId": "146c067f-081c-4e26-f527-71442ff83b8d"
   },
   "outputs": [
    {
     "data": {
      "text/plain": [
       "99.72"
      ]
     },
     "execution_count": 115,
     "metadata": {},
     "output_type": "execute_result"
    }
   ],
   "source": [
    "#Checking to see how much % of data still remains\n",
    "(final['Id'].size*1.0)/(filtered_data['Id'].size*1.0)*100"
   ]
  },
  {
   "cell_type": "code",
   "execution_count": null,
   "metadata": {},
   "outputs": [],
   "source": []
  },
  {
   "cell_type": "markdown",
   "metadata": {
    "colab_type": "text",
    "id": "LO5nLKeFCAZf"
   },
   "source": [
    "<b>Observation:-</b> It was also seen that in two rows given below the value of HelpfulnessNumerator is greater than HelpfulnessDenominator which is not practically possible hence these two rows too are removed from calcualtions"
   ]
  },
  {
   "cell_type": "code",
   "execution_count": 119,
   "metadata": {
    "colab": {},
    "colab_type": "code",
    "id": "L9z5lrsiCAZh",
    "outputId": "1a0dfa7c-62f4-4469-a97b-38f77fa3b2ab"
   },
   "outputs": [
    {
     "data": {
      "text/html": [
       "<div>\n",
       "<style scoped>\n",
       "    .dataframe tbody tr th:only-of-type {\n",
       "        vertical-align: middle;\n",
       "    }\n",
       "\n",
       "    .dataframe tbody tr th {\n",
       "        vertical-align: top;\n",
       "    }\n",
       "\n",
       "    .dataframe thead th {\n",
       "        text-align: right;\n",
       "    }\n",
       "</style>\n",
       "<table border=\"1\" class=\"dataframe\">\n",
       "  <thead>\n",
       "    <tr style=\"text-align: right;\">\n",
       "      <th></th>\n",
       "      <th>Id</th>\n",
       "      <th>ProductId</th>\n",
       "      <th>UserId</th>\n",
       "      <th>ProfileName</th>\n",
       "      <th>HelpfulnessNumerator</th>\n",
       "      <th>HelpfulnessDenominator</th>\n",
       "      <th>Score</th>\n",
       "      <th>Time</th>\n",
       "      <th>Summary</th>\n",
       "      <th>Text</th>\n",
       "    </tr>\n",
       "  </thead>\n",
       "  <tbody>\n",
       "    <tr>\n",
       "      <th>0</th>\n",
       "      <td>64422</td>\n",
       "      <td>B000MIDROQ</td>\n",
       "      <td>A161DK06JJMCYF</td>\n",
       "      <td>J. E. Stephens \"Jeanne\"</td>\n",
       "      <td>3</td>\n",
       "      <td>1</td>\n",
       "      <td>5</td>\n",
       "      <td>1224892800</td>\n",
       "      <td>Bought This for My Son at College</td>\n",
       "      <td>My son loves spaghetti so I didn't hesitate or...</td>\n",
       "    </tr>\n",
       "    <tr>\n",
       "      <th>1</th>\n",
       "      <td>44737</td>\n",
       "      <td>B001EQ55RW</td>\n",
       "      <td>A2V0I904FH7ABY</td>\n",
       "      <td>Ram</td>\n",
       "      <td>3</td>\n",
       "      <td>2</td>\n",
       "      <td>4</td>\n",
       "      <td>1212883200</td>\n",
       "      <td>Pure cocoa taste with crunchy almonds inside</td>\n",
       "      <td>It was almost a 'love at first bite' - the per...</td>\n",
       "    </tr>\n",
       "  </tbody>\n",
       "</table>\n",
       "</div>"
      ],
      "text/plain": [
       "      Id   ProductId          UserId              ProfileName  \\\n",
       "0  64422  B000MIDROQ  A161DK06JJMCYF  J. E. Stephens \"Jeanne\"   \n",
       "1  44737  B001EQ55RW  A2V0I904FH7ABY                      Ram   \n",
       "\n",
       "   HelpfulnessNumerator  HelpfulnessDenominator  Score        Time  \\\n",
       "0                     3                       1      5  1224892800   \n",
       "1                     3                       2      4  1212883200   \n",
       "\n",
       "                                        Summary  \\\n",
       "0             Bought This for My Son at College   \n",
       "1  Pure cocoa taste with crunchy almonds inside   \n",
       "\n",
       "                                                Text  \n",
       "0  My son loves spaghetti so I didn't hesitate or...  \n",
       "1  It was almost a 'love at first bite' - the per...  "
      ]
     },
     "execution_count": 119,
     "metadata": {},
     "output_type": "execute_result"
    }
   ],
   "source": [
    "display= pd.read_sql_query(\"\"\"\n",
    "SELECT *\n",
    "FROM Reviews\n",
    "WHERE Score != 3 AND Id=44737 OR Id=64422\n",
    "ORDER BY ProductID\n",
    "\"\"\", con)\n",
    "\n",
    "display.head()"
   ]
  },
  {
   "cell_type": "code",
   "execution_count": 120,
   "metadata": {
    "colab": {},
    "colab_type": "code",
    "id": "8Tphk1piCAZk"
   },
   "outputs": [],
   "source": [
    "# 剔除有帮助（分子） 大于  有帮助+无帮助（分母）\n",
    "final=final[final.HelpfulnessNumerator<=final.HelpfulnessDenominator]"
   ]
  },
  {
   "cell_type": "code",
   "execution_count": 121,
   "metadata": {
    "colab": {},
    "colab_type": "code",
    "id": "8TpsGDdJCAZm",
    "outputId": "287c6c08-d222-4848-b677-c9a5e769d0b1"
   },
   "outputs": [
    {
     "name": "stdout",
     "output_type": "stream",
     "text": [
      "(4986, 10)\n"
     ]
    },
    {
     "data": {
      "text/plain": [
       "1    4178\n",
       "0     808\n",
       "Name: Score, dtype: int64"
      ]
     },
     "execution_count": 121,
     "metadata": {},
     "output_type": "execute_result"
    }
   ],
   "source": [
    "#Before starting the next phase of preprocessing lets see the number of entries left\n",
    "print(final.shape)\n",
    "\n",
    "#How many positive and negative reviews are present in our dataset?\n",
    "final['Score'].value_counts()"
   ]
  },
  {
   "cell_type": "markdown",
   "metadata": {
    "colab_type": "text",
    "id": "RxBsuBylCAZr"
   },
   "source": [
    "# [3].  Text Preprocessing.\n",
    "\n",
    "Now that we have finished deduplication our data requires some preprocessing before we go on further with analysis and making the prediction model.\n",
    "\n",
    "Hence in the Preprocessing phase we do the following in the order below:-\n",
    "\n",
    "1. Begin by removing the html tags 首先删除html标记\n",
    "2. Remove any punctuations or limited set of special characters like , or . or # etc.\n",
    "3. Check if the word is made up of english letters and is not alpha-numeric\n",
    "4. Check to see if the length of the word is greater than 2 (as it was researched that there is no adjective in 2-letters)\n",
    "5. Convert the word to lowercase\n",
    "6. Remove Stopwords\n",
    "7. Finally Snowball Stemming the word (it was obsereved to be better than Porter Stemming)<br>\n",
    "\n",
    "After which we collect the words used to describe positive and negative reviews"
   ]
  },
  {
   "cell_type": "code",
   "execution_count": 122,
   "metadata": {
    "colab": {},
    "colab_type": "code",
    "id": "laOGMFB7CAZt",
    "outputId": "49d82795-cea4-4695-9834-45978266f6f4"
   },
   "outputs": [
    {
     "name": "stdout",
     "output_type": "stream",
     "text": [
      "Why is this $[...] when the same product is available for $[...] here?<br />http://www.amazon.com/VICTOR-FLY-MAGNET-BAIT-REFILL/dp/B00004RBDY<br /><br />The Victor M380 and M502 traps are unreal, of course -- total fly genocide. Pretty stinky, but only right nearby.\n",
      "==================================================\n",
      "I recently tried this flavor/brand and was surprised at how delicious these chips are.  The best thing was that there were a lot of \"brown\" chips in the bsg (my favorite), so I bought some more through amazon and shared with family and friends.  I am a little disappointed that there are not, so far, very many brown chips in these bags, but the flavor is still very good.  I like them better than the yogurt and green onion flavor because they do not seem to be as salty, and the onion flavor is better.  If you haven't eaten Kettle chips before, I recommend that you try a bag before buying bulk.  They are thicker and crunchier than Lays but just as fresh out of the bag.\n",
      "==================================================\n",
      "Wow.  So far, two two-star reviews.  One obviously had no idea what they were ordering; the other wants crispy cookies.  Hey, I'm sorry; but these reviews do nobody any good beyond reminding us to look  before ordering.<br /><br />These are chocolate-oatmeal cookies.  If you don't like that combination, don't order this type of cookie.  I find the combo quite nice, really.  The oatmeal sort of \"calms\" the rich chocolate flavor and gives the cookie sort of a coconut-type consistency.  Now let's also remember that tastes differ; so, I've given my opinion.<br /><br />Then, these are soft, chewy cookies -- as advertised.  They are not \"crispy\" cookies, or the blurb would say \"crispy,\" rather than \"chewy.\"  I happen to like raw cookie dough; however, I don't see where these taste like raw cookie dough.  Both are soft, however, so is this the confusion?  And, yes, they stick together.  Soft cookies tend to do that.  They aren't individually wrapped, which would add to the cost.  Oh yeah, chocolate chip cookies tend to be somewhat sweet.<br /><br />So, if you want something hard and crisp, I suggest Nabiso's Ginger Snaps.  If you want a cookie that's soft, chewy and tastes like a combination of chocolate and oatmeal, give these a try.  I'm here to place my second order.\n",
      "==================================================\n",
      "love to order my coffee on amazon.  easy and shows up quickly.<br />This k cup is great coffee.  dcaf is very good as well\n",
      "==================================================\n"
     ]
    }
   ],
   "source": [
    "# printing some random reviews\n",
    "sent_0 = final['Text'].values[0]\n",
    "print(sent_0)\n",
    "print(\"=\"*50)\n",
    "\n",
    "sent_1000 = final['Text'].values[1000]\n",
    "print(sent_1000)\n",
    "print(\"=\"*50)\n",
    "\n",
    "sent_1500 = final['Text'].values[1500]\n",
    "print(sent_1500)\n",
    "print(\"=\"*50)\n",
    "\n",
    "sent_4900 = final['Text'].values[4900]\n",
    "print(sent_4900)\n",
    "print(\"=\"*50)"
   ]
  },
  {
   "cell_type": "code",
   "execution_count": 123,
   "metadata": {},
   "outputs": [
    {
     "data": {
      "text/plain": [
       "'Why is this $[...] when the same product is available for $[...] here?<br />http://www.amazon.com/VICTOR-FLY-MAGNET-BAIT-REFILL/dp/B00004RBDY<br /><br />The Victor M380 and M502 traps are unreal, of course -- total fly genocide. Pretty stinky, but only right nearby.'"
      ]
     },
     "execution_count": 123,
     "metadata": {},
     "output_type": "execute_result"
    }
   ],
   "source": [
    "sent_0"
   ]
  },
  {
   "cell_type": "code",
   "execution_count": 124,
   "metadata": {
    "colab": {},
    "colab_type": "code",
    "id": "MvD0JaQ9CAZx",
    "outputId": "dcc683d4-6014-4430-fb91-f9526bca4475"
   },
   "outputs": [
    {
     "name": "stdout",
     "output_type": "stream",
     "text": [
      "Why is this $[...] when the same product is available for $[...] here?<br /> /><br />The Victor M380 and M502 traps are unreal, of course -- total fly genocide. Pretty stinky, but only right nearby.\n"
     ]
    }
   ],
   "source": [
    "# remove urls from text python: https://stackoverflow.com/a/40823105/4084039\n",
    "# Python中删除字符串中的任何URL\n",
    "sent_0 = re.sub(r\"http\\S+\", \"\", sent_0)\n",
    "sent_1000 = re.sub(r\"http\\S+\", \"\", sent_1000)\n",
    "sent_150 = re.sub(r\"http\\S+\", \"\", sent_1500)\n",
    "sent_4900 = re.sub(r\"http\\S+\", \"\", sent_4900)\n",
    "\n",
    "print(sent_0)"
   ]
  },
  {
   "cell_type": "code",
   "execution_count": 125,
   "metadata": {
    "colab": {},
    "colab_type": "code",
    "id": "Liu2zNFLCAZ0",
    "outputId": "f66770ef-17d3-4a99-df7f-75242858701d"
   },
   "outputs": [
    {
     "name": "stdout",
     "output_type": "stream",
     "text": [
      "Why is this $[...] when the same product is available for $[...] here? />The Victor M380 and M502 traps are unreal, of course -- total fly genocide. Pretty stinky, but only right nearby.\n",
      "==================================================\n",
      "I recently tried this flavor/brand and was surprised at how delicious these chips are.  The best thing was that there were a lot of \"brown\" chips in the bsg (my favorite), so I bought some more through amazon and shared with family and friends.  I am a little disappointed that there are not, so far, very many brown chips in these bags, but the flavor is still very good.  I like them better than the yogurt and green onion flavor because they do not seem to be as salty, and the onion flavor is better.  If you haven't eaten Kettle chips before, I recommend that you try a bag before buying bulk.  They are thicker and crunchier than Lays but just as fresh out of the bag.\n",
      "==================================================\n",
      "Wow.  So far, two two-star reviews.  One obviously had no idea what they were ordering; the other wants crispy cookies.  Hey, I'm sorry; but these reviews do nobody any good beyond reminding us to look  before ordering.These are chocolate-oatmeal cookies.  If you don't like that combination, don't order this type of cookie.  I find the combo quite nice, really.  The oatmeal sort of \"calms\" the rich chocolate flavor and gives the cookie sort of a coconut-type consistency.  Now let's also remember that tastes differ; so, I've given my opinion.Then, these are soft, chewy cookies -- as advertised.  They are not \"crispy\" cookies, or the blurb would say \"crispy,\" rather than \"chewy.\"  I happen to like raw cookie dough; however, I don't see where these taste like raw cookie dough.  Both are soft, however, so is this the confusion?  And, yes, they stick together.  Soft cookies tend to do that.  They aren't individually wrapped, which would add to the cost.  Oh yeah, chocolate chip cookies tend to be somewhat sweet.So, if you want something hard and crisp, I suggest Nabiso's Ginger Snaps.  If you want a cookie that's soft, chewy and tastes like a combination of chocolate and oatmeal, give these a try.  I'm here to place my second order.\n",
      "==================================================\n",
      "love to order my coffee on amazon.  easy and shows up quickly.This k cup is great coffee.  dcaf is very good as well\n"
     ]
    }
   ],
   "source": [
    "# https://stackoverflow.com/questions/16206380/python-beautifulsoup-how-to-remove-all-tags-from-an-element\n",
    "# 从元素中删除所有符号标签标签\n",
    "from bs4 import BeautifulSoup\n",
    "\n",
    "soup = BeautifulSoup(sent_0, 'lxml')\n",
    "text = soup.get_text()\n",
    "print(text)\n",
    "print(\"=\"*50)\n",
    "\n",
    "soup = BeautifulSoup(sent_1000, 'lxml')\n",
    "text = soup.get_text()\n",
    "print(text)\n",
    "print(\"=\"*50)\n",
    "\n",
    "soup = BeautifulSoup(sent_1500, 'lxml')\n",
    "text = soup.get_text()\n",
    "print(text)\n",
    "print(\"=\"*50)\n",
    "\n",
    "soup = BeautifulSoup(sent_4900, 'lxml')\n",
    "text = soup.get_text()\n",
    "print(text)"
   ]
  },
  {
   "cell_type": "code",
   "execution_count": 126,
   "metadata": {
    "colab": {},
    "colab_type": "code",
    "id": "lNHWbzBaCAZ3"
   },
   "outputs": [],
   "source": [
    "# https://stackoverflow.com/a/47091490/4084039\n",
    "# 扩展英语收缩\n",
    "import re\n",
    "\n",
    "def decontracted(phrase):\n",
    "    # specific\n",
    "    phrase = re.sub(r\"won't\", \"will not\", phrase)\n",
    "    phrase = re.sub(r\"can\\'t\", \"can not\", phrase)\n",
    "\n",
    "    # general\n",
    "    phrase = re.sub(r\"n\\'t\", \" not\", phrase)\n",
    "    phrase = re.sub(r\"\\'re\", \" are\", phrase)\n",
    "    phrase = re.sub(r\"\\'s\", \" is\", phrase)\n",
    "    phrase = re.sub(r\"\\'d\", \" would\", phrase)\n",
    "    phrase = re.sub(r\"\\'ll\", \" will\", phrase)\n",
    "    phrase = re.sub(r\"\\'t\", \" not\", phrase)\n",
    "    phrase = re.sub(r\"\\'ve\", \" have\", phrase)\n",
    "    phrase = re.sub(r\"\\'m\", \" am\", phrase)\n",
    "    return phrase"
   ]
  },
  {
   "cell_type": "code",
   "execution_count": 127,
   "metadata": {},
   "outputs": [
    {
     "data": {
      "text/plain": [
       "'you have'"
      ]
     },
     "execution_count": 127,
     "metadata": {},
     "output_type": "execute_result"
    }
   ],
   "source": [
    "decontracted(\"you've\")"
   ]
  },
  {
   "cell_type": "code",
   "execution_count": 128,
   "metadata": {
    "colab": {},
    "colab_type": "code",
    "id": "y7v1fmngCAZ5",
    "outputId": "22e3fcb6-c2e6-4c92-be48-f65543b1140f"
   },
   "outputs": [
    {
     "name": "stdout",
     "output_type": "stream",
     "text": [
      "Wow.  So far, two two-star reviews.  One obviously had no idea what they were ordering; the other wants crispy cookies.  Hey, I am sorry; but these reviews do nobody any good beyond reminding us to look  before ordering.<br /><br />These are chocolate-oatmeal cookies.  If you do not like that combination, do not order this type of cookie.  I find the combo quite nice, really.  The oatmeal sort of \"calms\" the rich chocolate flavor and gives the cookie sort of a coconut-type consistency.  Now let is also remember that tastes differ; so, I have given my opinion.<br /><br />Then, these are soft, chewy cookies -- as advertised.  They are not \"crispy\" cookies, or the blurb would say \"crispy,\" rather than \"chewy.\"  I happen to like raw cookie dough; however, I do not see where these taste like raw cookie dough.  Both are soft, however, so is this the confusion?  And, yes, they stick together.  Soft cookies tend to do that.  They are not individually wrapped, which would add to the cost.  Oh yeah, chocolate chip cookies tend to be somewhat sweet.<br /><br />So, if you want something hard and crisp, I suggest Nabiso is Ginger Snaps.  If you want a cookie that is soft, chewy and tastes like a combination of chocolate and oatmeal, give these a try.  I am here to place my second order.\n",
      "==================================================\n"
     ]
    }
   ],
   "source": [
    "sent_1500 = decontracted(sent_1500)\n",
    "print(sent_1500)\n",
    "print(\"=\"*50)"
   ]
  },
  {
   "cell_type": "code",
   "execution_count": 129,
   "metadata": {
    "colab": {},
    "colab_type": "code",
    "id": "jKIBLrAjCAZ7",
    "outputId": "376f1e55-511a-4352-c345-a39f1d2a2224"
   },
   "outputs": [
    {
     "name": "stdout",
     "output_type": "stream",
     "text": [
      "Why is this $[...] when the same product is available for $[...] here?<br /> /><br />The Victor  and  traps are unreal, of course -- total fly genocide. Pretty stinky, but only right nearby.\n"
     ]
    }
   ],
   "source": [
    "# remove words with numbers python: https://stackoverflow.com/a/18082370/4084039\n",
    "# 删除所有包含数字的单词\n",
    "sent_0 = re.sub(\"\\S*\\d\\S*\", \"\", sent_0).strip()\n",
    "print(sent_0)"
   ]
  },
  {
   "cell_type": "code",
   "execution_count": 130,
   "metadata": {
    "colab": {},
    "colab_type": "code",
    "id": "sU3eY6geCAZ9",
    "outputId": "90d91c93-0d77-47c0-e496-77d1611a86fb"
   },
   "outputs": [
    {
     "name": "stdout",
     "output_type": "stream",
     "text": [
      "Wow So far two two star reviews One obviously had no idea what they were ordering the other wants crispy cookies Hey I am sorry but these reviews do nobody any good beyond reminding us to look before ordering br br These are chocolate oatmeal cookies If you do not like that combination do not order this type of cookie I find the combo quite nice really The oatmeal sort of calms the rich chocolate flavor and gives the cookie sort of a coconut type consistency Now let is also remember that tastes differ so I have given my opinion br br Then these are soft chewy cookies as advertised They are not crispy cookies or the blurb would say crispy rather than chewy I happen to like raw cookie dough however I do not see where these taste like raw cookie dough Both are soft however so is this the confusion And yes they stick together Soft cookies tend to do that They are not individually wrapped which would add to the cost Oh yeah chocolate chip cookies tend to be somewhat sweet br br So if you want something hard and crisp I suggest Nabiso is Ginger Snaps If you want a cookie that is soft chewy and tastes like a combination of chocolate and oatmeal give these a try I am here to place my second order \n"
     ]
    }
   ],
   "source": [
    "#remove spacial character: https://stackoverflow.com/a/5843547/4084039\n",
    "# 删除所有特殊字符，标点和空格\n",
    "sent_1500 = re.sub('[^A-Za-z0-9]+', ' ', sent_1500)\n",
    "print(sent_1500)"
   ]
  },
  {
   "cell_type": "code",
   "execution_count": 134,
   "metadata": {},
   "outputs": [
    {
     "data": {
      "text/plain": [
       "'Wow S2o far'"
      ]
     },
     "execution_count": 134,
     "metadata": {},
     "output_type": "execute_result"
    }
   ],
   "source": [
    "re.sub('[^A-Za-z0-9]+', ' ', \"Wow  。 S2o far\")"
   ]
  },
  {
   "cell_type": "code",
   "execution_count": 135,
   "metadata": {
    "colab": {},
    "colab_type": "code",
    "id": "Xsr4xHkJCAaA"
   },
   "outputs": [],
   "source": [
    "# https://gist.github.com/sebleier/554280\n",
    "# we are removing the words from the stop words list: 'no', 'nor', 'not'\n",
    "# <br /><br /> ==> after the above steps, we are getting \"br br\"\n",
    "# we are including them into stop words list\n",
    "# instead of <br /> if we have <br/> these tags would have revmoved in the 1st step\n",
    "\n",
    "stopwords= set(['br', 'the', 'i', 'me', 'my', 'myself', 'we', 'our', 'ours', 'ourselves', 'you', \"you're\", \"you've\",\\\n",
    "            \"you'll\", \"you'd\", 'your', 'yours', 'yourself', 'yourselves', 'he', 'him', 'his', 'himself', \\\n",
    "            'she', \"she's\", 'her', 'hers', 'herself', 'it', \"it's\", 'its', 'itself', 'they', 'them', 'their',\\\n",
    "            'theirs', 'themselves', 'what', 'which', 'who', 'whom', 'this', 'that', \"that'll\", 'these', 'those', \\\n",
    "            'am', 'is', 'are', 'was', 'were', 'be', 'been', 'being', 'have', 'has', 'had', 'having', 'do', 'does', \\\n",
    "            'did', 'doing', 'a', 'an', 'the', 'and', 'but', 'if', 'or', 'because', 'as', 'until', 'while', 'of', \\\n",
    "            'at', 'by', 'for', 'with', 'about', 'against', 'between', 'into', 'through', 'during', 'before', 'after',\\\n",
    "            'above', 'below', 'to', 'from', 'up', 'down', 'in', 'out', 'on', 'off', 'over', 'under', 'again', 'further',\\\n",
    "            'then', 'once', 'here', 'there', 'when', 'where', 'why', 'how', 'all', 'any', 'both', 'each', 'few', 'more',\\\n",
    "            'most', 'other', 'some', 'such', 'only', 'own', 'same', 'so', 'than', 'too', 'very', \\\n",
    "            's', 't', 'can', 'will', 'just', 'don', \"don't\", 'should', \"should've\", 'now', 'd', 'll', 'm', 'o', 're', \\\n",
    "            've', 'y', 'ain', 'aren', \"aren't\", 'couldn', \"couldn't\", 'didn', \"didn't\", 'doesn', \"doesn't\", 'hadn',\\\n",
    "            \"hadn't\", 'hasn', \"hasn't\", 'haven', \"haven't\", 'isn', \"isn't\", 'ma', 'mightn', \"mightn't\", 'mustn',\\\n",
    "            \"mustn't\", 'needn', \"needn't\", 'shan', \"shan't\", 'shouldn', \"shouldn't\", 'wasn', \"wasn't\", 'weren', \"weren't\", \\\n",
    "            'won', \"won't\", 'wouldn', \"wouldn't\"])"
   ]
  },
  {
   "cell_type": "code",
   "execution_count": 136,
   "metadata": {},
   "outputs": [
    {
     "data": {
      "text/plain": [
       "'se ance'"
      ]
     },
     "execution_count": 136,
     "metadata": {},
     "output_type": "execute_result"
    }
   ],
   "source": [
    "' '.join(e.lower() for e in 'Se hasn ance'.split() if e.lower() not in stopwords).strip()"
   ]
  },
  {
   "cell_type": "code",
   "execution_count": 137,
   "metadata": {
    "colab": {},
    "colab_type": "code",
    "id": "MgsJ09NpCAaB",
    "outputId": "1d7ef7e7-d03e-4bff-850a-a2aef70af7d9"
   },
   "outputs": [
    {
     "name": "stderr",
     "output_type": "stream",
     "text": [
      "100%|████████████████████████████████████████████████████████████████████████████| 4986/4986 [00:02<00:00, 1821.25it/s]\n"
     ]
    }
   ],
   "source": [
    "# Combining all the above stundents \n",
    "# tqdm 指的是下面得迭代进度条\n",
    "from tqdm import tqdm\n",
    "preprocessed_reviews = []\n",
    "# tqdm is for printing the status bar\n",
    "for sentance in tqdm(final['Text'].values):\n",
    "    sentance = re.sub(r\"http\\S+\", \"\", sentance)\n",
    "    sentance = BeautifulSoup(sentance, 'lxml').get_text()\n",
    "    sentance = decontracted(sentance)\n",
    "    sentance = re.sub(\"\\S*\\d\\S*\", \"\", sentance).strip()\n",
    "    sentance = re.sub('[^A-Za-z]+', ' ', sentance)\n",
    "    # https://gist.github.com/sebleier/554280\n",
    "    # 大写字母转小写，踢去停用词\n",
    "    sentance = ' '.join(e.lower() for e in sentance.split() if e.lower() not in stopwords)\n",
    "    preprocessed_reviews.append(sentance.strip())"
   ]
  },
  {
   "cell_type": "code",
   "execution_count": 146,
   "metadata": {
    "colab": {},
    "colab_type": "code",
    "id": "f_zfwXXWCAaE",
    "outputId": "a8ba4cbf-3a4c-4447-f06a-2b639e1a5f88"
   },
   "outputs": [
    {
     "data": {
      "text/plain": [
       "'wow far two two star reviews one obviously no idea ordering wants crispy cookies hey sorry reviews nobody good beyond reminding us look ordering chocolate oatmeal cookies not like combination not order type cookie find combo quite nice really oatmeal sort calms rich chocolate flavor gives cookie sort coconut type consistency let also remember tastes differ given opinion soft chewy cookies advertised not crispy cookies blurb would say crispy rather chewy happen like raw cookie dough however not see taste like raw cookie dough soft however confusion yes stick together soft cookies tend not individually wrapped would add cost oh yeah chocolate chip cookies tend somewhat sweet want something hard crisp suggest nabiso ginger snaps want cookie soft chewy tastes like combination chocolate oatmeal give try place second order'"
      ]
     },
     "execution_count": 146,
     "metadata": {},
     "output_type": "execute_result"
    }
   ],
   "source": [
    "preprocessed_reviews[1500]"
   ]
  },
  {
   "cell_type": "markdown",
   "metadata": {
    "colab_type": "text",
    "id": "tmeU-LoVCAaI"
   },
   "source": [
    "<h2><font color='red'>[3.2] Preprocess Summary</font></h2>"
   ]
  },
  {
   "cell_type": "code",
   "execution_count": 0,
   "metadata": {
    "colab": {},
    "colab_type": "code",
    "id": "wtJ2hcy9CAaI"
   },
   "outputs": [],
   "source": [
    "## Similartly you can do preprocessing for review summary also."
   ]
  },
  {
   "cell_type": "markdown",
   "metadata": {
    "colab_type": "text",
    "id": "ytBZVEs2CAaL"
   },
   "source": [
    "# [4] Featurization 特征工程"
   ]
  },
  {
   "cell_type": "markdown",
   "metadata": {
    "colab_type": "text",
    "id": "9amw6tMZCAaL"
   },
   "source": [
    "## [4.1] BAG OF WORDS\n",
    "- 词袋模型"
   ]
  },
  {
   "cell_type": "code",
   "execution_count": 147,
   "metadata": {
    "colab": {},
    "colab_type": "code",
    "id": "3hasoJ-_CAaN",
    "outputId": "12aa3f3f-083c-4de4-a6e7-3dbde6b5a905"
   },
   "outputs": [
    {
     "name": "stdout",
     "output_type": "stream",
     "text": [
      "some feature names  ['aa', 'aahhhs', 'aback', 'abandon', 'abates', 'abbott', 'abby', 'abdominal', 'abiding', 'ability']\n",
      "==================================================\n",
      "the type of count vectorizer  <class 'scipy.sparse.csr.csr_matrix'>\n",
      "the shape of out text BOW vectorizer  (4986, 12997)\n",
      "the number of unique words  12997\n"
     ]
    }
   ],
   "source": [
    "#BoW\n",
    "# 词袋算法 向量\n",
    "count_vect = CountVectorizer() #in scikit-learn\n",
    "count_vect.fit(preprocessed_reviews) # 整合语料库中所有得唯一单词，生成D维空间\n",
    "print(\"some feature names \", count_vect.get_feature_names()[:10])\n",
    "print('='*50)\n",
    "\n",
    "final_counts = count_vect.transform(preprocessed_reviews)\n",
    "print(\"the type of count vectorizer \",type(final_counts))\n",
    "print(\"the shape of out text BOW vectorizer \",final_counts.get_shape())\n",
    "print(\"the number of unique words \", final_counts.get_shape()[1])"
   ]
  },
  {
   "cell_type": "code",
   "execution_count": 152,
   "metadata": {},
   "outputs": [
    {
     "data": {
      "text/plain": [
       "12997"
      ]
     },
     "execution_count": 152,
     "metadata": {},
     "output_type": "execute_result"
    }
   ],
   "source": [
    "len(count_vect.get_feature_names())"
   ]
  },
  {
   "cell_type": "code",
   "execution_count": 86,
   "metadata": {},
   "outputs": [
    {
     "data": {
      "text/plain": [
       "array([[0, 0, 0, ..., 0, 0, 0],\n",
       "       [0, 0, 0, ..., 0, 0, 0],\n",
       "       [0, 0, 0, ..., 0, 0, 0],\n",
       "       ...,\n",
       "       [0, 0, 0, ..., 0, 0, 0],\n",
       "       [0, 0, 0, ..., 0, 0, 0],\n",
       "       [0, 0, 0, ..., 0, 0, 0]], dtype=int64)"
      ]
     },
     "execution_count": 86,
     "metadata": {},
     "output_type": "execute_result"
    }
   ],
   "source": [
    "final_counts.toarray()"
   ]
  },
  {
   "cell_type": "markdown",
   "metadata": {
    "colab_type": "text",
    "id": "1dhfJZ7ZCAaR"
   },
   "source": [
    "## [4.2] Bi-Grams and n-Grams."
   ]
  },
  {
   "cell_type": "code",
   "execution_count": 155,
   "metadata": {
    "colab": {},
    "colab_type": "code",
    "id": "u1Ma2LBfCAaR",
    "outputId": "a5208a4c-c0ad-4360-f021-b2e8715610a4"
   },
   "outputs": [
    {
     "name": "stdout",
     "output_type": "stream",
     "text": [
      "the type of count vectorizer  <class 'scipy.sparse.csr.csr_matrix'>\n",
      "the shape of out text BOW vectorizer  (4986, 3144)\n",
      "the number of unique words including both unigrams and bigrams  3144\n"
     ]
    }
   ],
   "source": [
    "#bi-gram, tri-gram and n-gram\n",
    "# not停用词应该保留\n",
    "#removing stop words like \"not\" should be avoided before building n-grams \n",
    "# count_vect = CountVectorizer(ngram_range=(1,2))\n",
    "# please do read the CountVectorizer documentation http://scikit-learn.org/stable/modules/generated/sklearn.feature_extraction.text.CountVectorizer.html\n",
    "# you can choose these numebrs min_df=10, max_features=5000, of your choice\n",
    "# min_df 是指忽略掉低于阈值的单词,max_features去最大频率特征数也就是唯一单词数量，\n",
    "# （1，2）代表unigrams 与 bigrams （1，1）只代表unigrams\n",
    "count_vect = CountVectorizer(ngram_range=(1,2), min_df=10, max_features=5000)\n",
    "final_bigram_counts = count_vect.fit_transform(preprocessed_reviews)\n",
    "print(\"the type of count vectorizer \",type(final_bigram_counts))\n",
    "print(\"the shape of out text BOW vectorizer \",final_bigram_counts.get_shape())\n",
    "print(\"the number of unique words including both unigrams and bigrams \", final_bigram_counts.get_shape()[1])"
   ]
  },
  {
   "cell_type": "markdown",
   "metadata": {
    "colab_type": "text",
    "id": "F--Xk5fhCAaV"
   },
   "source": [
    "## [4.3] TF-IDF"
   ]
  },
  {
   "cell_type": "code",
   "execution_count": 156,
   "metadata": {},
   "outputs": [
    {
     "data": {
      "text/plain": [
       "'product available victor traps unreal course total fly genocide pretty stinky right nearby'"
      ]
     },
     "execution_count": 156,
     "metadata": {},
     "output_type": "execute_result"
    }
   ],
   "source": [
    "preprocessed_reviews[0]"
   ]
  },
  {
   "cell_type": "code",
   "execution_count": 157,
   "metadata": {
    "colab": {},
    "colab_type": "code",
    "id": "6heiZFZ-CAaW",
    "outputId": "08103e90-4bd8-410e-b3dc-84a02e01aa33"
   },
   "outputs": [
    {
     "name": "stdout",
     "output_type": "stream",
     "text": [
      "some sample features(unique words in the corpus) ['ability', 'able', 'able find', 'able get', 'absolute', 'absolutely', 'absolutely delicious', 'absolutely love', 'absolutely no', 'according']\n",
      "==================================================\n",
      "the type of count vectorizer  <class 'scipy.sparse.csr.csr_matrix'>\n",
      "the shape of out text TFIDF vectorizer  (4986, 3144)\n",
      "the number of unique words including both unigrams and bigrams  3144\n"
     ]
    }
   ],
   "source": [
    "tf_idf_vect = TfidfVectorizer(ngram_range=(1,2), min_df=10) # 声明模型\n",
    "tf_idf_vect.fit(preprocessed_reviews) # 训练模型 生成D维向量\n",
    "print(\"some sample features(unique words in the corpus)\",tf_idf_vect.get_feature_names()[0:10])\n",
    "print('='*50)\n",
    "\n",
    "final_tf_idf = tf_idf_vect.transform(preprocessed_reviews) # 每个文本向量转换\n",
    "print(\"the type of count vectorizer \",type(final_tf_idf))\n",
    "print(\"the shape of out text TFIDF vectorizer \",final_tf_idf.get_shape())\n",
    "print(\"the number of unique words including both unigrams and bigrams \", final_tf_idf.get_shape()[1])"
   ]
  },
  {
   "cell_type": "code",
   "execution_count": 163,
   "metadata": {},
   "outputs": [
    {
     "data": {
      "text/plain": [
       "[0.5155374110147434,\n",
       " 0.48513504831445,\n",
       " 0.386745407060546,\n",
       " 0.3496054862960678,\n",
       " 0.3199882768682581,\n",
       " 0.29064574032671675,\n",
       " 0.20050364861326597,\n",
       " 0.0,\n",
       " 0.0,\n",
       " 0.0]"
      ]
     },
     "execution_count": 163,
     "metadata": {},
     "output_type": "execute_result"
    }
   ],
   "source": [
    "sorted(final_tf_idf.toarray()[0],reverse=True)[:10]"
   ]
  },
  {
   "cell_type": "markdown",
   "metadata": {
    "colab_type": "text",
    "id": "XnzP-eZdCAaa"
   },
   "source": [
    "## [4.4] Word2Vec"
   ]
  },
  {
   "cell_type": "code",
   "execution_count": null,
   "metadata": {},
   "outputs": [],
   "source": []
  },
  {
   "cell_type": "code",
   "execution_count": 165,
   "metadata": {
    "colab": {},
    "colab_type": "code",
    "id": "e-IuUZsTCAaa"
   },
   "outputs": [],
   "source": [
    "# Train your own Word2Vec model using your own text corpus\n",
    "# 当训练自己本地的word2vec模型向量需要的语料库\n",
    "# 把句子拆分为单词保存\n",
    "i=0\n",
    "list_of_sentance=[]\n",
    "for sentance in preprocessed_reviews:\n",
    "    list_of_sentance.append(sentance.split())"
   ]
  },
  {
   "cell_type": "code",
   "execution_count": 169,
   "metadata": {
    "colab": {},
    "colab_type": "code",
    "id": "GIbKBSkRCAac",
    "outputId": "d72c6206-2c3f-4143-8c21-3f5b674310df",
    "scrolled": false
   },
   "outputs": [
    {
     "name": "stdout",
     "output_type": "stream",
     "text": [
      "[('excellent', 0.9860531687736511), ('alternative', 0.9808095097541809), ('overall', 0.9794380068778992), ('looking', 0.9791802167892456), ('snack', 0.97899329662323), ('thai', 0.9782599806785583), ('healthier', 0.9777424931526184), ('fantastic', 0.9774388670921326), ('popchips', 0.9774268865585327), ('similar', 0.9773476123809814)]\n",
      "==================================================\n",
      "[('american', 0.9983189702033997), ('together', 0.9982762336730957), ('level', 0.9982515573501587), ('remember', 0.998244047164917), ('clear', 0.9981531500816345), ('bacon', 0.998151421546936), ('uses', 0.9980431199073792), ('served', 0.9980385899543762), ('become', 0.9980316162109375), ('gingerbread', 0.9980202913284302)]\n"
     ]
    }
   ],
   "source": [
    "# Using Google News Word2Vectors\n",
    "\n",
    "# in this project we are using a pretrained model by google\n",
    "# its 3.3G file, once you load this into your memory \n",
    "# it occupies ~9Gb, so please do this step only if you have >12G of ram\n",
    "# we will provide a pickle file wich contains a dict , \n",
    "# and it contains all our courpus words as keys and  model[word] as values\n",
    "# To use this code-snippet, download \"GoogleNews-vectors-negative300.bin\" \n",
    "# from https://drive.google.com/file/d/0B7XkCwpI5KDYNlNUTTlSS21pQmM/edit\n",
    "# it's 1.9GB in size.\n",
    "\n",
    "# http://kavita-ganesan.com/gensim-word2vec-tutorial-starter-code/#.W17SRFAzZPY\n",
    "# you can comment this whole cell\n",
    "# or change these varible according to your need\n",
    "\n",
    "# 在此可以直接导入Google已经训练好的word2vec 词向量。\n",
    "\n",
    "is_your_ram_gt_16g=False  # 电脑内存是否为16G\n",
    "want_to_use_google_w2v = False #是否需要直接使用Google已经训练好的 word2vec 词向量\n",
    "want_to_train_w2v = True # 是否需要自己训练word2vec模型 词向量\n",
    "\n",
    "if want_to_train_w2v:\n",
    "    # min_count = 5 considers only words that occured atleast 5 times\n",
    "    w2v_model=Word2Vec(list_of_sentance,min_count=5,vector_size=50, workers=4)\n",
    "    print(w2v_model.wv.most_similar('great')) # 查找与之相近单词\n",
    "    print('='*50)\n",
    "    print(w2v_model.wv.most_similar('worst'))\n",
    "    \n",
    "elif want_to_use_google_w2v and is_your_ram_gt_16g:\n",
    "    if os.path.isfile('GoogleNews-vectors-negative300.bin'):\n",
    "        w2v_model=KeyedVectors.load_word2vec_format('GoogleNews-vectors-negative300.bin', binary=True)\n",
    "        print(w2v_model.wv.most_similar('great'))\n",
    "        print(w2v_model.wv.most_similar('worst'))\n",
    "    else:\n",
    "        print(\"you don't have gogole's word2vec file, keep want_to_train_w2v = True, to train your own w2v \")"
   ]
  },
  {
   "cell_type": "code",
   "execution_count": 179,
   "metadata": {
    "colab": {},
    "colab_type": "code",
    "id": "JEJGArtUCAae",
    "outputId": "943e0fc6-83f8-455b-ba53-8dd05428fc92"
   },
   "outputs": [
    {
     "name": "stdout",
     "output_type": "stream",
     "text": [
      "number of words that occured minimum 5 times（最少出现5次的单词书）  3817\n",
      "sample words  ['not', 'like', 'good', 'great', 'taste', 'one', 'product', 'would', 'flavor', 'love', 'coffee', 'food', 'chips', 'tea', 'no', 'really', 'get', 'best', 'much', 'amazon', 'use', 'time', 'buy', 'also', 'tried', 'little', 'find', 'make', 'price', 'better', 'bag', 'try', 'even', 'mix', 'well', 'chocolate', 'hot', 'eat', 'free', 'water', 'dog', 'first', 'made', 'could', 'found', 'used', 'bought', 'box', 'sugar', 'cup']\n"
     ]
    }
   ],
   "source": [
    "w2v_words = list(w2v_model.wv.index_to_key)\n",
    "print(\"number of words that occured minimum 5 times（最少出现5次的单词书） \",len(w2v_words))\n",
    "print(\"sample words \", w2v_words[0:50])"
   ]
  },
  {
   "cell_type": "markdown",
   "metadata": {
    "colab_type": "text",
    "id": "EPjGCg7UCAag"
   },
   "source": [
    "## [4.4.1] Converting text into vectors using wAvg W2V, TFIDF-W2V\n",
    "- 由于word2vec生成的单词向量，所有如果需要把单个文本或者文档进行向量的话，有以下两种方式"
   ]
  },
  {
   "cell_type": "markdown",
   "metadata": {
    "colab_type": "text",
    "id": "oPxfYXhMCAag"
   },
   "source": [
    "#### [4.4.1.1] Avg W2v"
   ]
  },
  {
   "cell_type": "code",
   "execution_count": 181,
   "metadata": {},
   "outputs": [
    {
     "data": {
      "text/plain": [
       "array([-0.16857612, -0.0220873 ,  0.28610587,  0.15585777, -0.0568742 ,\n",
       "       -0.30836502,  0.28916204,  0.70041686, -0.6894278 ,  0.34481496,\n",
       "       -0.09319563, -0.715798  , -0.01162221,  0.19721353, -0.34451407,\n",
       "       -0.10124443,  0.5096565 ,  0.29970428, -0.65456766, -0.7192474 ,\n",
       "        0.51879174, -0.05057316,  1.126577  , -0.25638768,  0.214938  ,\n",
       "       -0.14362161, -0.44393477,  0.36913612, -0.77677894, -0.35734817,\n",
       "       -0.40727666,  0.3814484 ,  0.05979913,  0.38444862, -0.5535347 ,\n",
       "        0.30528888,  0.47620356,  0.00299771,  0.14565922, -0.43533772,\n",
       "        0.71216977, -0.7291305 , -0.21618482, -0.11923885,  1.1081957 ,\n",
       "        0.6585453 , -0.13988693, -0.27364674,  0.601027  ,  0.24441814],\n",
       "      dtype=float32)"
      ]
     },
     "execution_count": 181,
     "metadata": {},
     "output_type": "execute_result"
    }
   ],
   "source": [
    "w2v_model.wv[\"not\"] # 获取单词向量"
   ]
  },
  {
   "cell_type": "code",
   "execution_count": 182,
   "metadata": {
    "colab": {},
    "colab_type": "code",
    "id": "sB4Y18rQCAag",
    "outputId": "c9f64dac-cc89-43e3-9820-fbc18c39a69e",
    "scrolled": true
   },
   "outputs": [
    {
     "name": "stderr",
     "output_type": "stream",
     "text": [
      "\n",
      "  0%|                                                                                         | 0/4986 [00:00<?, ?it/s]\u001b[A\n",
      "  1%|█                                                                              | 68/4986 [00:00<00:07, 673.66it/s]\u001b[A\n",
      "  3%|██▏                                                                           | 136/4986 [00:00<00:07, 662.09it/s]\u001b[A\n",
      "  5%|███▊                                                                          | 245/4986 [00:00<00:05, 850.97it/s]\u001b[A\n",
      "  7%|█████▏                                                                        | 331/4986 [00:00<00:05, 804.47it/s]\u001b[A\n",
      "  9%|██████▉                                                                       | 445/4986 [00:00<00:05, 907.71it/s]\u001b[A\n",
      " 12%|████████▉                                                                    | 578/4986 [00:00<00:04, 1042.46it/s]\u001b[A\n",
      " 14%|██████████▋                                                                   | 684/4986 [00:00<00:04, 982.66it/s]\u001b[A\n",
      " 16%|████████████▎                                                                 | 787/4986 [00:00<00:04, 993.99it/s]\u001b[A\n",
      " 18%|█████████████▊                                                               | 891/4986 [00:00<00:04, 1004.95it/s]\u001b[A\n",
      " 20%|███████████████▌                                                              | 993/4986 [00:01<00:04, 971.89it/s]\u001b[A\n",
      " 22%|████████████████▊                                                           | 1106/4986 [00:01<00:03, 1012.23it/s]\u001b[A\n",
      " 24%|██████████████████▋                                                          | 1208/4986 [00:01<00:04, 937.91it/s]\u001b[A\n",
      " 26%|████████████████████▏                                                        | 1304/4986 [00:01<00:04, 841.15it/s]\u001b[A\n",
      " 28%|█████████████████████▍                                                       | 1391/4986 [00:01<00:04, 829.30it/s]\u001b[A\n",
      " 30%|███████████████████████▎                                                     | 1508/4986 [00:01<00:03, 918.16it/s]\u001b[A\n",
      " 32%|████████████████████████▋                                                    | 1602/4986 [00:01<00:03, 904.33it/s]\u001b[A\n",
      " 34%|██████████████████████████▏                                                  | 1694/4986 [00:01<00:03, 901.31it/s]\u001b[A\n",
      " 36%|████████████████████████████                                                 | 1819/4986 [00:01<00:03, 997.36it/s]\u001b[A\n",
      " 39%|█████████████████████████████▋                                               | 1920/4986 [00:02<00:03, 973.20it/s]\u001b[A\n",
      " 40%|███████████████████████████████▏                                             | 2019/4986 [00:02<00:03, 917.97it/s]\u001b[A\n",
      " 42%|████████████████████████████████▋                                            | 2116/4986 [00:02<00:03, 917.29it/s]\u001b[A\n",
      " 44%|██████████████████████████████████                                           | 2209/4986 [00:02<00:03, 918.42it/s]\u001b[A\n",
      " 46%|███████████████████████████████████▌                                         | 2302/4986 [00:02<00:03, 802.84it/s]\u001b[A\n",
      " 49%|█████████████████████████████████████▎                                       | 2419/4986 [00:02<00:02, 896.78it/s]\u001b[A\n",
      " 51%|███████████████████████████████████████                                     | 2565/4986 [00:02<00:02, 1047.17it/s]\u001b[A\n",
      " 54%|█████████████████████████████████████████▍                                  | 2716/4986 [00:02<00:01, 1173.35it/s]\u001b[A\n",
      " 57%|███████████████████████████████████████████▏                                | 2837/4986 [00:02<00:01, 1164.10it/s]\u001b[A\n",
      " 59%|█████████████████████████████████████████████                               | 2956/4986 [00:03<00:01, 1020.24it/s]\u001b[A\n",
      " 61%|██████████████████████████████████████████████▋                             | 3063/4986 [00:03<00:01, 1001.88it/s]\u001b[A\n",
      " 64%|████████████████████████████████████████████████▉                            | 3167/4986 [00:03<00:01, 937.36it/s]\u001b[A\n",
      " 65%|██████████████████████████████████████████████████▍                          | 3264/4986 [00:03<00:01, 879.55it/s]\u001b[A\n",
      " 67%|███████████████████████████████████████████████████▊                         | 3355/4986 [00:03<00:01, 827.93it/s]\u001b[A\n",
      " 69%|█████████████████████████████████████████████████████▎                       | 3455/4986 [00:03<00:01, 869.76it/s]\u001b[A\n",
      " 72%|███████████████████████████████████████████████████████▏                     | 3572/4986 [00:03<00:01, 944.95it/s]\u001b[A\n",
      " 74%|████████████████████████████████████████████████████████▋                    | 3669/4986 [00:03<00:01, 849.31it/s]\u001b[A\n",
      " 76%|██████████████████████████████████████████████████████████▎                  | 3775/4986 [00:04<00:01, 901.78it/s]\u001b[A\n",
      " 78%|███████████████████████████████████████████████████████████▉                 | 3881/4986 [00:04<00:01, 937.05it/s]\u001b[A\n",
      " 80%|█████████████████████████████████████████████████████████████▏              | 4011/4986 [00:04<00:00, 1031.95it/s]\u001b[A\n",
      " 83%|███████████████████████████████████████████████████████████████▌             | 4117/4986 [00:04<00:00, 989.72it/s]\u001b[A\n",
      " 85%|████████████████████████████████████████████████████████████████▍           | 4230/4986 [00:04<00:00, 1025.94it/s]\u001b[A\n",
      " 87%|██████████████████████████████████████████████████████████████████▉          | 4335/4986 [00:04<00:00, 996.26it/s]\u001b[A\n",
      " 91%|████████████████████████████████████████████████████████████████████▉       | 4524/4986 [00:04<00:00, 1243.88it/s]\u001b[A\n",
      " 94%|███████████████████████████████████████████████████████████████████████▏    | 4673/4986 [00:04<00:00, 1310.74it/s]\u001b[A\n",
      " 96%|█████████████████████████████████████████████████████████████████████████▎  | 4806/4986 [00:04<00:00, 1208.15it/s]\u001b[A\n",
      "100%|█████████████████████████████████████████████████████████████████████████████| 4986/4986 [00:05<00:00, 975.15it/s]\u001b[A"
     ]
    },
    {
     "name": "stdout",
     "output_type": "stream",
     "text": [
      "4986\n",
      "50\n"
     ]
    },
    {
     "name": "stderr",
     "output_type": "stream",
     "text": [
      "\n"
     ]
    }
   ],
   "source": [
    "# average Word2Vec\n",
    "# compute average word2vec for each review.\n",
    "sent_vectors = []; # the avg-w2v for each sentence/review is stored in this list\n",
    "for sent in tqdm(list_of_sentance): # for each review/sentence\n",
    "    sent_vec = np.zeros(50) # as word vectors are of zero length 50, you might need to change this to 300 if you use google's w2v\n",
    "    cnt_words =0; # num of words with a valid vector in the sentence/review\n",
    "    for word in sent: # for each word in a review/sentence\n",
    "        if word in w2v_words:\n",
    "            vec = w2v_model.wv[word] # 获取单词向量\n",
    "            sent_vec += vec # 每个单词向量进行相加\n",
    "            cnt_words += 1 # 单词数量相加\n",
    "    if cnt_words != 0: # 判断分母不要为0\n",
    "        sent_vec /= cnt_words\n",
    "    sent_vectors.append(sent_vec)\n",
    "print(len(sent_vectors))\n",
    "print(len(sent_vectors[0]))"
   ]
  },
  {
   "cell_type": "code",
   "execution_count": 184,
   "metadata": {},
   "outputs": [
    {
     "data": {
      "text/plain": [
       "0.75"
      ]
     },
     "execution_count": 184,
     "metadata": {},
     "output_type": "execute_result"
    }
   ],
   "source": [
    "3/4"
   ]
  },
  {
   "cell_type": "markdown",
   "metadata": {
    "colab_type": "text",
    "id": "sKAEsZZLCAam"
   },
   "source": [
    "#### [4.4.1.2] TFIDF weighted W2v"
   ]
  },
  {
   "cell_type": "code",
   "execution_count": 186,
   "metadata": {
    "colab": {},
    "colab_type": "code",
    "id": "pAVTG3brCAao"
   },
   "outputs": [],
   "source": [
    "# S = [\"abc def pqr\", \"def def def abc\", \"pqr pqr def\"]\n",
    "model = TfidfVectorizer()\n",
    "model.fit(preprocessed_reviews)\n",
    "# we are converting a dictionary with word as a key, and the idf as a value\n",
    "dictionary = dict(zip(model.get_feature_names(), list(model.idf_)))"
   ]
  },
  {
   "cell_type": "code",
   "execution_count": 191,
   "metadata": {
    "colab": {},
    "colab_type": "code",
    "id": "Tyxhz3XQCAap",
    "outputId": "e72f3ca0-7d29-4657-a107-c5d678514cf3",
    "scrolled": true
   },
   "outputs": [
    {
     "name": "stderr",
     "output_type": "stream",
     "text": [
      "\n",
      "  0%|                                                                                         | 0/4986 [00:00<?, ?it/s]\u001b[A\n",
      "  0%|▏                                                                                | 8/4986 [00:00<01:10, 70.84it/s]\u001b[A\n",
      "  0%|▎                                                                               | 16/4986 [00:00<01:18, 62.97it/s]\u001b[A\n",
      "  1%|▍                                                                               | 27/4986 [00:00<01:02, 79.81it/s]\u001b[A\n",
      "  1%|▋                                                                               | 39/4986 [00:00<00:53, 93.18it/s]\u001b[A\n",
      "  1%|▊                                                                               | 49/4986 [00:00<00:52, 93.91it/s]\u001b[A\n",
      "  1%|▉                                                                               | 59/4986 [00:00<00:54, 89.79it/s]\u001b[A\n",
      "  1%|█                                                                               | 69/4986 [00:00<00:54, 89.64it/s]\u001b[A\n",
      "  2%|█▎                                                                             | 83/4986 [00:00<00:47, 103.49it/s]\u001b[A\n",
      "  2%|█▌                                                                              | 96/4986 [00:01<00:58, 83.28it/s]\u001b[A\n",
      "  2%|█▋                                                                             | 106/4986 [00:01<01:15, 64.28it/s]\u001b[A\n",
      "  2%|█▊                                                                             | 115/4986 [00:01<01:10, 69.18it/s]\u001b[A\n",
      "  2%|█▉                                                                             | 123/4986 [00:01<01:08, 71.27it/s]\u001b[A\n",
      "  3%|██                                                                             | 131/4986 [00:01<01:11, 67.84it/s]\u001b[A\n",
      "  3%|██▏                                                                            | 139/4986 [00:01<01:09, 69.28it/s]\u001b[A\n",
      "  3%|██▎                                                                            | 147/4986 [00:01<01:09, 69.88it/s]\u001b[A\n",
      "  3%|██▍                                                                            | 157/4986 [00:02<01:07, 71.41it/s]\u001b[A\n",
      "  3%|██▋                                                                            | 166/4986 [00:02<01:03, 75.94it/s]\u001b[A\n",
      "  3%|██▊                                                                            | 174/4986 [00:02<01:06, 72.00it/s]\u001b[A\n",
      "  4%|██▉                                                                            | 182/4986 [00:02<01:07, 70.77it/s]\u001b[A\n",
      "  4%|███                                                                            | 193/4986 [00:02<01:00, 79.44it/s]\u001b[A\n",
      "  4%|███▎                                                                           | 206/4986 [00:02<00:51, 92.81it/s]\u001b[A\n",
      "  4%|███▍                                                                           | 216/4986 [00:02<00:51, 91.80it/s]\u001b[A\n",
      "  5%|███▌                                                                          | 230/4986 [00:02<00:45, 104.69it/s]\u001b[A\n",
      "  5%|███▊                                                                           | 241/4986 [00:02<00:48, 97.40it/s]\u001b[A\n",
      "  5%|███▉                                                                           | 251/4986 [00:03<00:51, 91.68it/s]\u001b[A\n",
      "  5%|████▏                                                                          | 263/4986 [00:03<00:48, 96.39it/s]\u001b[A\n",
      "  5%|████▎                                                                          | 273/4986 [00:03<00:59, 79.61it/s]\u001b[A\n",
      "  6%|████▌                                                                          | 285/4986 [00:03<00:53, 88.64it/s]\u001b[A\n",
      "  6%|████▋                                                                          | 295/4986 [00:03<01:15, 62.01it/s]\u001b[A\n",
      "  6%|████▉                                                                          | 310/4986 [00:03<00:59, 78.57it/s]\u001b[A\n",
      "  7%|█████▏                                                                         | 325/4986 [00:03<00:49, 93.94it/s]\u001b[A\n",
      "  7%|█████▎                                                                         | 337/4986 [00:04<00:48, 96.70it/s]\u001b[A\n",
      "  7%|█████▌                                                                         | 348/4986 [00:04<00:52, 88.83it/s]\u001b[A\n",
      "  7%|█████▋                                                                         | 358/4986 [00:04<00:50, 91.07it/s]\u001b[A\n",
      "  8%|█████▉                                                                        | 379/4986 [00:04<00:38, 120.88it/s]\u001b[A\n",
      "  8%|██████▏                                                                       | 393/4986 [00:04<00:43, 105.79it/s]\u001b[A\n",
      "  8%|██████▎                                                                       | 405/4986 [00:04<00:43, 104.68it/s]\u001b[A\n",
      "  8%|██████▌                                                                       | 418/4986 [00:04<00:41, 110.17it/s]\u001b[A\n",
      "  9%|██████▋                                                                       | 430/4986 [00:04<00:43, 104.58it/s]\u001b[A\n",
      "  9%|██████▉                                                                       | 441/4986 [00:05<00:44, 101.80it/s]\u001b[A\n",
      "  9%|███████▏                                                                       | 452/4986 [00:05<00:45, 98.57it/s]\u001b[A\n",
      "  9%|███████▎                                                                      | 465/4986 [00:05<00:42, 105.40it/s]\u001b[A\n",
      " 10%|███████▍                                                                      | 477/4986 [00:05<00:42, 106.76it/s]\u001b[A\n",
      " 10%|███████▋                                                                      | 491/4986 [00:05<00:39, 113.96it/s]\u001b[A\n",
      " 10%|███████▉                                                                      | 505/4986 [00:05<00:37, 120.69it/s]\u001b[A\n",
      " 10%|████████                                                                      | 518/4986 [00:05<00:37, 119.95it/s]\u001b[A\n",
      " 11%|████████▎                                                                     | 531/4986 [00:05<00:43, 101.60it/s]\u001b[A\n",
      " 11%|████████▍                                                                     | 542/4986 [00:06<00:44, 100.61it/s]\u001b[A\n",
      " 11%|████████▋                                                                     | 555/4986 [00:06<00:41, 106.81it/s]\u001b[A\n",
      " 11%|████████▊                                                                     | 567/4986 [00:06<00:41, 105.30it/s]\u001b[A\n",
      " 12%|█████████▏                                                                     | 578/4986 [00:06<00:45, 96.77it/s]\u001b[A\n",
      " 12%|█████████▎                                                                     | 588/4986 [00:06<00:52, 83.29it/s]\u001b[A\n",
      " 12%|█████████▍                                                                     | 597/4986 [00:06<00:53, 82.54it/s]\u001b[A\n",
      " 12%|█████████▌                                                                     | 606/4986 [00:06<01:11, 61.58it/s]\u001b[A\n",
      " 12%|█████████▋                                                                     | 614/4986 [00:07<01:21, 53.76it/s]\u001b[A\n",
      " 12%|█████████▊                                                                     | 623/4986 [00:07<01:11, 60.65it/s]\u001b[A\n",
      " 13%|█████████▉                                                                     | 630/4986 [00:07<01:09, 62.68it/s]\u001b[A\n",
      " 13%|██████████                                                                     | 639/4986 [00:07<01:04, 67.56it/s]\u001b[A\n",
      " 13%|██████████▎                                                                    | 647/4986 [00:07<01:01, 70.48it/s]\u001b[A\n",
      " 13%|██████████▍                                                                    | 655/4986 [00:07<00:59, 72.23it/s]\u001b[A\n",
      " 13%|██████████▌                                                                    | 663/4986 [00:07<01:05, 65.66it/s]\u001b[A\n",
      " 13%|██████████▋                                                                    | 673/4986 [00:07<00:58, 73.83it/s]\u001b[A\n",
      " 14%|██████████▊                                                                    | 682/4986 [00:07<00:55, 77.92it/s]\u001b[A\n",
      " 14%|██████████▉                                                                    | 693/4986 [00:08<00:49, 86.24it/s]\u001b[A\n",
      " 14%|███████████▏                                                                   | 703/4986 [00:08<00:48, 87.90it/s]\u001b[A\n"
     ]
    },
    {
     "name": "stderr",
     "output_type": "stream",
     "text": [
      " 14%|███████████▎                                                                   | 712/4986 [00:08<00:48, 87.88it/s]\u001b[A\n",
      " 15%|███████████▍                                                                  | 730/4986 [00:08<00:37, 112.86it/s]\u001b[A\n",
      " 15%|███████████▌                                                                  | 743/4986 [00:08<00:36, 115.80it/s]\u001b[A\n",
      " 15%|███████████▉                                                                   | 755/4986 [00:08<00:44, 95.61it/s]\u001b[A\n",
      " 15%|███████████▉                                                                  | 767/4986 [00:08<00:41, 101.49it/s]\u001b[A\n",
      " 16%|████████████▏                                                                 | 778/4986 [00:08<00:41, 101.34it/s]\u001b[A\n",
      " 16%|████████████▍                                                                 | 792/4986 [00:08<00:37, 110.86it/s]\u001b[A\n",
      " 16%|████████████▋                                                                 | 808/4986 [00:09<00:33, 123.42it/s]\u001b[A\n",
      " 17%|████████████▉                                                                 | 827/4986 [00:09<00:29, 139.04it/s]\u001b[A\n",
      " 17%|█████████████▏                                                                | 842/4986 [00:09<00:36, 113.25it/s]\u001b[A\n",
      " 17%|█████████████▍                                                                | 855/4986 [00:09<00:37, 109.12it/s]\u001b[A\n",
      " 17%|█████████████▌                                                                | 867/4986 [00:09<00:36, 111.52it/s]\u001b[A\n",
      " 18%|█████████████▊                                                                | 879/4986 [00:09<00:38, 107.35it/s]\u001b[A\n",
      " 18%|██████████████                                                                 | 891/4986 [00:09<00:45, 89.98it/s]\u001b[A\n",
      " 18%|██████████████▎                                                                | 901/4986 [00:10<00:44, 90.84it/s]\u001b[A\n",
      " 18%|██████████████▍                                                                | 911/4986 [00:10<00:44, 92.36it/s]\u001b[A\n",
      " 18%|██████████████▌                                                                | 921/4986 [00:10<00:51, 79.58it/s]\u001b[A\n",
      " 19%|██████████████▋                                                                | 930/4986 [00:10<00:52, 76.78it/s]\u001b[A\n",
      " 19%|██████████████▉                                                                | 940/4986 [00:10<00:49, 82.08it/s]\u001b[A\n",
      " 19%|███████████████                                                                | 951/4986 [00:10<00:48, 82.76it/s]\u001b[A\n",
      " 19%|███████████████▏                                                               | 960/4986 [00:10<00:51, 78.83it/s]\u001b[A\n",
      " 19%|███████████████▍                                                               | 971/4986 [00:10<00:46, 85.82it/s]\u001b[A\n",
      " 20%|███████████████▍                                                              | 987/4986 [00:11<00:39, 101.06it/s]\u001b[A\n",
      " 20%|███████████████▍                                                             | 1002/4986 [00:11<00:35, 113.44it/s]\u001b[A\n",
      " 20%|███████████████▋                                                             | 1014/4986 [00:11<00:35, 113.09it/s]\u001b[A\n",
      " 21%|███████████████▊                                                             | 1026/4986 [00:11<00:37, 104.33it/s]\u001b[A\n",
      " 21%|████████████████▏                                                             | 1037/4986 [00:11<00:40, 96.42it/s]\u001b[A\n",
      " 21%|████████████████▏                                                            | 1051/4986 [00:11<00:38, 101.36it/s]\u001b[A\n",
      " 21%|████████████████▍                                                            | 1062/4986 [00:11<00:38, 101.00it/s]\u001b[A\n",
      " 22%|████████████████▊                                                             | 1073/4986 [00:11<00:44, 88.10it/s]\u001b[A\n",
      " 22%|████████████████▉                                                             | 1083/4986 [00:12<00:47, 81.51it/s]\u001b[A\n",
      " 22%|█████████████████▏                                                            | 1096/4986 [00:12<00:43, 90.23it/s]\u001b[A\n",
      " 22%|█████████████████▎                                                            | 1106/4986 [00:12<00:46, 83.20it/s]\u001b[A\n",
      " 22%|█████████████████▍                                                            | 1115/4986 [00:12<00:46, 82.86it/s]\u001b[A\n",
      " 23%|█████████████████▋                                                            | 1127/4986 [00:12<00:42, 90.84it/s]\u001b[A\n",
      " 23%|█████████████████▊                                                            | 1138/4986 [00:12<00:40, 94.75it/s]\u001b[A\n",
      " 23%|█████████████████▉                                                            | 1150/4986 [00:12<00:39, 98.13it/s]\u001b[A\n",
      " 23%|██████████████████▏                                                           | 1160/4986 [00:12<00:39, 97.33it/s]\u001b[A\n",
      " 23%|██████████████████                                                           | 1171/4986 [00:12<00:38, 100.30it/s]\u001b[A\n",
      " 24%|██████████████████▎                                                          | 1186/4986 [00:13<00:33, 113.37it/s]\u001b[A\n",
      " 24%|██████████████████▌                                                          | 1198/4986 [00:13<00:34, 111.37it/s]\u001b[A\n",
      " 24%|██████████████████▋                                                          | 1210/4986 [00:13<00:33, 111.93it/s]\u001b[A\n",
      " 25%|██████████████████▉                                                          | 1225/4986 [00:13<00:32, 114.33it/s]\u001b[A\n",
      " 25%|███████████████████                                                          | 1237/4986 [00:13<00:36, 101.85it/s]\u001b[A\n",
      " 25%|███████████████████▌                                                          | 1248/4986 [00:13<00:45, 81.92it/s]\u001b[A\n",
      " 25%|███████████████████▋                                                          | 1258/4986 [00:13<00:43, 85.68it/s]\u001b[A\n",
      " 25%|███████████████████▊                                                          | 1268/4986 [00:13<00:44, 84.07it/s]\u001b[A\n",
      " 26%|███████████████████▊                                                         | 1284/4986 [00:14<00:36, 101.74it/s]\u001b[A\n",
      " 26%|████████████████████▎                                                         | 1295/4986 [00:14<00:38, 96.66it/s]\u001b[A\n",
      " 26%|████████████████████▍                                                         | 1306/4986 [00:14<00:38, 94.99it/s]\u001b[A\n",
      " 26%|████████████████████▌                                                         | 1316/4986 [00:14<00:38, 95.31it/s]\u001b[A\n",
      " 27%|████████████████████▋                                                         | 1326/4986 [00:14<00:40, 91.22it/s]\u001b[A\n",
      " 27%|████████████████████▉                                                         | 1337/4986 [00:14<00:38, 95.73it/s]\u001b[A\n",
      " 27%|█████████████████████                                                         | 1347/4986 [00:14<00:39, 91.89it/s]\u001b[A\n",
      " 27%|█████████████████████▏                                                        | 1357/4986 [00:14<00:43, 82.90it/s]\u001b[A\n",
      " 27%|█████████████████████▎                                                        | 1366/4986 [00:15<00:50, 71.47it/s]\u001b[A\n",
      " 28%|█████████████████████▍                                                        | 1374/4986 [00:15<00:54, 66.62it/s]\u001b[A\n",
      " 28%|█████████████████████▌                                                        | 1381/4986 [00:15<01:07, 53.77it/s]\u001b[A\n",
      " 28%|█████████████████████▊                                                        | 1392/4986 [00:15<00:56, 63.64it/s]\u001b[A\n",
      " 28%|██████████████████████                                                        | 1408/4986 [00:15<00:42, 83.66it/s]\u001b[A\n",
      " 28%|██████████████████████▏                                                       | 1418/4986 [00:15<00:40, 87.17it/s]\u001b[A\n",
      " 29%|██████████████████████▎                                                       | 1429/4986 [00:15<00:38, 92.29it/s]\u001b[A\n",
      " 29%|██████████████████████▌                                                       | 1440/4986 [00:15<00:36, 96.23it/s]\u001b[A\n",
      " 29%|██████████████████████▍                                                      | 1453/4986 [00:16<00:34, 103.49it/s]\u001b[A\n",
      " 29%|██████████████████████▌                                                      | 1465/4986 [00:16<00:32, 107.48it/s]\u001b[A\n",
      " 30%|███████████████████████                                                       | 1477/4986 [00:16<00:36, 95.88it/s]\u001b[A\n"
     ]
    },
    {
     "name": "stderr",
     "output_type": "stream",
     "text": [
      " 30%|███████████████████████▎                                                      | 1488/4986 [00:16<00:36, 94.77it/s]\u001b[A\n",
      " 30%|███████████████████████▍                                                      | 1498/4986 [00:16<00:36, 94.67it/s]\u001b[A\n",
      " 30%|███████████████████████▌                                                      | 1508/4986 [00:16<00:36, 94.84it/s]\u001b[A\n",
      " 30%|███████████████████████▍                                                     | 1520/4986 [00:16<00:34, 100.11it/s]\u001b[A\n",
      " 31%|███████████████████████▉                                                      | 1531/4986 [00:16<00:36, 94.47it/s]\u001b[A\n",
      " 31%|████████████████████████                                                      | 1541/4986 [00:17<00:38, 89.43it/s]\u001b[A\n",
      " 31%|████████████████████████▎                                                     | 1551/4986 [00:17<00:38, 88.57it/s]\u001b[A\n",
      " 31%|████████████████████████▏                                                    | 1567/4986 [00:17<00:31, 107.22it/s]\u001b[A\n",
      " 32%|████████████████████████▍                                                    | 1579/4986 [00:17<00:31, 106.64it/s]\u001b[A\n",
      " 32%|████████████████████████▌                                                    | 1590/4986 [00:17<00:32, 103.88it/s]\u001b[A\n",
      " 32%|█████████████████████████                                                     | 1601/4986 [00:17<00:39, 86.65it/s]\u001b[A\n",
      " 32%|█████████████████████████▏                                                    | 1612/4986 [00:17<00:36, 91.23it/s]\u001b[A\n",
      " 33%|█████████████████████████▎                                                    | 1622/4986 [00:17<00:38, 87.25it/s]\u001b[A\n",
      " 33%|█████████████████████████▌                                                    | 1632/4986 [00:18<00:46, 72.02it/s]\u001b[A\n",
      " 33%|█████████████████████████▋                                                    | 1640/4986 [00:18<00:53, 62.59it/s]\u001b[A\n",
      " 33%|█████████████████████████▊                                                    | 1647/4986 [00:18<00:52, 64.05it/s]\u001b[A\n",
      " 33%|█████████████████████████▉                                                    | 1656/4986 [00:18<00:48, 68.99it/s]\u001b[A\n",
      " 33%|██████████████████████████                                                    | 1664/4986 [00:18<00:46, 71.37it/s]\u001b[A\n",
      " 34%|██████████████████████████▏                                                   | 1672/4986 [00:18<00:51, 64.86it/s]\u001b[A\n",
      " 34%|██████████████████████████▎                                                   | 1684/4986 [00:18<00:43, 76.21it/s]\u001b[A\n",
      " 34%|██████████████████████████▍                                                   | 1693/4986 [00:18<00:41, 78.93it/s]\u001b[A\n",
      " 34%|██████████████████████████▋                                                   | 1702/4986 [00:19<00:44, 74.57it/s]\u001b[A\n",
      " 34%|██████████████████████████▊                                                   | 1710/4986 [00:19<00:45, 72.62it/s]\u001b[A\n",
      " 35%|██████████████████████████▉                                                   | 1724/4986 [00:19<00:36, 89.19it/s]\u001b[A\n",
      " 35%|███████████████████████████▏                                                  | 1734/4986 [00:19<00:44, 72.84it/s]\u001b[A\n",
      " 35%|███████████████████████████▍                                                  | 1750/4986 [00:19<00:35, 91.02it/s]\u001b[A\n",
      " 35%|███████████████████████████▌                                                  | 1760/4986 [00:19<00:37, 86.65it/s]\u001b[A\n",
      " 36%|███████████████████████████▋                                                  | 1772/4986 [00:19<00:35, 90.20it/s]\u001b[A\n",
      " 36%|███████████████████████████▌                                                 | 1786/4986 [00:19<00:31, 102.24it/s]\u001b[A\n",
      " 36%|███████████████████████████▊                                                 | 1798/4986 [00:20<00:30, 103.13it/s]\u001b[A\n",
      " 36%|████████████████████████████▎                                                 | 1809/4986 [00:20<00:35, 88.51it/s]\u001b[A\n",
      " 36%|████████████████████████████▍                                                 | 1819/4986 [00:20<00:39, 80.06it/s]\u001b[A\n",
      " 37%|████████████████████████████▌                                                 | 1828/4986 [00:20<00:50, 62.13it/s]\u001b[A\n",
      " 37%|████████████████████████████▋                                                 | 1837/4986 [00:20<00:47, 66.92it/s]\u001b[A\n",
      " 37%|████████████████████████████▊                                                 | 1845/4986 [00:20<00:52, 59.68it/s]\u001b[A\n",
      " 37%|████████████████████████████▉                                                 | 1852/4986 [00:21<00:52, 60.00it/s]\u001b[A\n",
      " 37%|█████████████████████████████                                                 | 1861/4986 [00:21<00:48, 63.92it/s]\u001b[A\n",
      " 37%|█████████████████████████████▏                                                | 1868/4986 [00:21<00:55, 56.18it/s]\u001b[A\n",
      " 38%|█████████████████████████████▎                                                | 1876/4986 [00:21<00:57, 54.45it/s]\u001b[A\n",
      " 38%|█████████████████████████████▍                                                | 1882/4986 [00:21<00:58, 52.87it/s]\u001b[A\n",
      " 38%|█████████████████████████████▌                                                | 1893/4986 [00:21<00:48, 63.45it/s]\u001b[A\n",
      " 38%|█████████████████████████████▋                                                | 1901/4986 [00:21<00:45, 67.12it/s]\u001b[A\n",
      " 38%|█████████████████████████████▉                                                | 1910/4986 [00:21<00:42, 72.23it/s]\u001b[A\n",
      " 39%|██████████████████████████████                                                | 1924/4986 [00:22<00:34, 88.57it/s]\u001b[A\n",
      " 39%|██████████████████████████████▎                                               | 1934/4986 [00:22<00:40, 74.85it/s]\u001b[A\n",
      " 39%|██████████████████████████████▍                                               | 1943/4986 [00:22<00:50, 59.93it/s]\u001b[A\n",
      " 39%|██████████████████████████████▌                                               | 1950/4986 [00:22<00:56, 54.16it/s]\u001b[A\n",
      " 39%|██████████████████████████████▋                                               | 1959/4986 [00:22<00:49, 61.52it/s]\u001b[A\n",
      " 39%|██████████████████████████████▊                                               | 1968/4986 [00:22<00:45, 67.03it/s]\u001b[A\n",
      " 40%|██████████████████████████████▉                                               | 1976/4986 [00:22<00:43, 68.52it/s]\u001b[A\n",
      " 40%|███████████████████████████████                                               | 1984/4986 [00:23<00:44, 67.35it/s]\u001b[A\n",
      " 40%|███████████████████████████████▏                                              | 1993/4986 [00:23<00:41, 72.38it/s]\u001b[A\n",
      " 40%|███████████████████████████████▎                                              | 2002/4986 [00:23<00:39, 75.62it/s]\u001b[A\n",
      " 40%|███████████████████████████████▍                                              | 2010/4986 [00:23<00:42, 70.18it/s]\u001b[A\n",
      " 40%|███████████████████████████████▌                                              | 2018/4986 [00:23<00:44, 66.98it/s]\u001b[A\n",
      " 41%|███████████████████████████████▋                                              | 2025/4986 [00:23<00:45, 64.78it/s]\u001b[A\n",
      " 41%|███████████████████████████████▊                                              | 2032/4986 [00:23<00:52, 56.50it/s]\u001b[A\n",
      " 41%|███████████████████████████████▉                                              | 2038/4986 [00:23<00:55, 53.36it/s]\u001b[A\n",
      " 41%|████████████████████████████████                                              | 2046/4986 [00:24<00:50, 58.28it/s]\u001b[A\n",
      " 41%|████████████████████████████████▏                                             | 2056/4986 [00:24<00:43, 67.08it/s]\u001b[A\n",
      " 41%|████████████████████████████████▎                                             | 2065/4986 [00:24<00:40, 72.46it/s]\u001b[A\n",
      " 42%|████████████████████████████████▌                                             | 2082/4986 [00:24<00:31, 90.87it/s]\u001b[A\n",
      " 42%|████████████████████████████████▋                                             | 2092/4986 [00:24<00:32, 88.21it/s]\u001b[A\n",
      " 42%|████████████████████████████████▌                                            | 2106/4986 [00:24<00:28, 100.94it/s]\u001b[A\n",
      " 42%|█████████████████████████████████                                             | 2117/4986 [00:24<00:30, 93.54it/s]\u001b[A\n",
      " 43%|█████████████████████████████████▎                                            | 2127/4986 [00:24<00:33, 85.70it/s]\u001b[A\n"
     ]
    },
    {
     "name": "stderr",
     "output_type": "stream",
     "text": [
      " 43%|█████████████████████████████████▍                                            | 2138/4986 [00:25<00:33, 86.18it/s]\u001b[A\n",
      " 43%|█████████████████████████████████▌                                            | 2147/4986 [00:25<00:38, 73.51it/s]\u001b[A\n",
      " 43%|█████████████████████████████████▋                                            | 2155/4986 [00:25<00:40, 70.02it/s]\u001b[A\n",
      " 43%|█████████████████████████████████▉                                            | 2166/4986 [00:25<00:35, 79.30it/s]\u001b[A\n",
      " 44%|██████████████████████████████████                                            | 2179/4986 [00:25<00:30, 91.86it/s]\u001b[A\n",
      " 44%|██████████████████████████████████▏                                           | 2189/4986 [00:25<00:30, 92.80it/s]\u001b[A\n",
      " 44%|██████████████████████████████████▍                                           | 2199/4986 [00:25<00:31, 89.89it/s]\u001b[A\n",
      " 44%|██████████████████████████████████▌                                           | 2210/4986 [00:25<00:29, 94.80it/s]\u001b[A\n",
      " 45%|██████████████████████████████████▊                                           | 2222/4986 [00:26<00:27, 99.44it/s]\u001b[A\n",
      " 45%|██████████████████████████████████▉                                           | 2233/4986 [00:26<00:29, 92.84it/s]\u001b[A\n",
      " 45%|███████████████████████████████████                                           | 2243/4986 [00:26<00:35, 77.00it/s]\u001b[A\n",
      " 45%|███████████████████████████████████▏                                          | 2252/4986 [00:26<00:36, 74.79it/s]\u001b[A\n",
      " 45%|███████████████████████████████████▎                                          | 2260/4986 [00:26<00:35, 75.86it/s]\u001b[A\n",
      " 45%|███████████████████████████████████▍                                          | 2268/4986 [00:26<00:36, 74.65it/s]\u001b[A\n",
      " 46%|███████████████████████████████████▌                                          | 2276/4986 [00:26<00:36, 75.08it/s]\u001b[A\n",
      " 46%|███████████████████████████████████▋                                          | 2284/4986 [00:27<00:51, 52.52it/s]\u001b[A\n",
      " 46%|███████████████████████████████████▊                                          | 2291/4986 [00:27<00:55, 48.75it/s]\u001b[A\n",
      " 46%|███████████████████████████████████▉                                          | 2297/4986 [00:27<00:52, 50.76it/s]\u001b[A\n",
      " 46%|████████████████████████████████████                                          | 2305/4986 [00:27<00:47, 56.86it/s]\u001b[A\n",
      " 46%|████████████████████████████████████▏                                         | 2312/4986 [00:27<00:49, 53.68it/s]\u001b[A\n",
      " 46%|████████████████████████████████████▎                                         | 2318/4986 [00:27<01:04, 41.10it/s]\u001b[A\n",
      " 47%|████████████████████████████████████▎                                         | 2323/4986 [00:27<01:02, 42.55it/s]\u001b[A\n",
      " 47%|████████████████████████████████████▍                                         | 2328/4986 [00:28<01:00, 43.92it/s]\u001b[A\n",
      " 47%|████████████████████████████████████▌                                         | 2336/4986 [00:28<00:51, 50.98it/s]\u001b[A\n",
      " 47%|████████████████████████████████████▋                                         | 2345/4986 [00:28<00:44, 59.66it/s]\u001b[A\n",
      " 47%|████████████████████████████████████▊                                         | 2352/4986 [00:28<00:46, 57.08it/s]\u001b[A\n",
      " 47%|████████████████████████████████████▉                                         | 2360/4986 [00:28<00:42, 61.49it/s]\u001b[A\n",
      " 47%|█████████████████████████████████████                                         | 2367/4986 [00:28<00:43, 60.01it/s]\u001b[A\n",
      " 48%|█████████████████████████████████████▏                                        | 2378/4986 [00:28<00:35, 72.64it/s]\u001b[A\n",
      " 48%|█████████████████████████████████████▎                                        | 2386/4986 [00:28<00:36, 70.82it/s]\u001b[A\n",
      " 48%|█████████████████████████████████████▍                                        | 2394/4986 [00:28<00:37, 68.86it/s]\u001b[A\n",
      " 48%|█████████████████████████████████████▌                                        | 2404/4986 [00:29<00:33, 76.91it/s]\u001b[A\n",
      " 48%|█████████████████████████████████████▋                                        | 2412/4986 [00:29<00:46, 55.79it/s]\u001b[A\n",
      " 49%|█████████████████████████████████████▊                                        | 2419/4986 [00:29<00:46, 55.27it/s]\u001b[A\n",
      " 49%|█████████████████████████████████████▉                                        | 2427/4986 [00:29<00:42, 60.62it/s]\u001b[A\n",
      " 49%|██████████████████████████████████████▏                                       | 2438/4986 [00:29<00:35, 72.16it/s]\u001b[A\n",
      " 49%|██████████████████████████████████████▎                                       | 2446/4986 [00:29<00:37, 67.43it/s]\u001b[A\n",
      " 49%|██████████████████████████████████████▍                                       | 2459/4986 [00:29<00:31, 81.01it/s]\u001b[A\n",
      " 50%|██████████████████████████████████████▋                                       | 2473/4986 [00:30<00:26, 95.78it/s]\u001b[A\n",
      " 50%|██████████████████████████████████████▊                                       | 2484/4986 [00:30<00:32, 77.54it/s]\u001b[A\n",
      " 50%|███████████████████████████████████████                                       | 2493/4986 [00:30<00:33, 73.64it/s]\u001b[A\n",
      " 50%|███████████████████████████████████████▏                                      | 2502/4986 [00:30<00:32, 76.73it/s]\u001b[A\n",
      " 50%|███████████████████████████████████████▎                                      | 2512/4986 [00:30<00:30, 80.30it/s]\u001b[A\n",
      " 51%|███████████████████████████████████████▍                                      | 2521/4986 [00:30<00:32, 75.64it/s]\u001b[A\n",
      " 51%|███████████████████████████████████████▌                                      | 2529/4986 [00:30<00:35, 68.37it/s]\u001b[A\n",
      " 51%|███████████████████████████████████████▋                                      | 2537/4986 [00:31<00:40, 60.40it/s]\u001b[A\n",
      " 51%|███████████████████████████████████████▉                                      | 2551/4986 [00:31<00:31, 77.73it/s]\u001b[A\n",
      " 51%|████████████████████████████████████████                                      | 2562/4986 [00:31<00:28, 85.37it/s]\u001b[A\n",
      " 52%|████████████████████████████████████████▏                                     | 2572/4986 [00:31<00:29, 82.08it/s]\u001b[A\n",
      " 52%|████████████████████████████████████████▍                                     | 2581/4986 [00:31<00:34, 69.96it/s]\u001b[A\n",
      " 52%|████████████████████████████████████████▌                                     | 2595/4986 [00:31<00:28, 83.83it/s]\u001b[A\n",
      " 52%|████████████████████████████████████████▊                                     | 2607/4986 [00:31<00:26, 90.67it/s]\u001b[A\n",
      " 52%|████████████████████████████████████████▉                                     | 2617/4986 [00:31<00:25, 91.65it/s]\u001b[A\n",
      " 53%|█████████████████████████████████████████                                     | 2627/4986 [00:31<00:25, 93.82it/s]\u001b[A\n",
      " 53%|█████████████████████████████████████████▎                                    | 2637/4986 [00:32<00:25, 91.25it/s]\u001b[A\n",
      " 53%|█████████████████████████████████████████▍                                    | 2647/4986 [00:32<00:31, 74.28it/s]\u001b[A\n",
      " 53%|█████████████████████████████████████████▌                                    | 2656/4986 [00:32<00:34, 67.65it/s]\u001b[A\n",
      " 53%|█████████████████████████████████████████▋                                    | 2664/4986 [00:32<00:37, 62.04it/s]\u001b[A\n",
      " 54%|█████████████████████████████████████████▊                                    | 2671/4986 [00:32<00:38, 60.34it/s]\u001b[A\n",
      " 54%|█████████████████████████████████████████▉                                    | 2678/4986 [00:32<00:37, 62.29it/s]\u001b[A\n",
      " 54%|██████████████████████████████████████████                                    | 2689/4986 [00:32<00:31, 71.94it/s]\u001b[A\n",
      " 54%|██████████████████████████████████████████▏                                   | 2697/4986 [00:33<00:36, 63.07it/s]\u001b[A\n",
      " 54%|██████████████████████████████████████████▎                                   | 2708/4986 [00:33<00:30, 73.50it/s]\u001b[A\n",
      " 54%|██████████████████████████████████████████▍                                   | 2716/4986 [00:33<00:31, 71.55it/s]\u001b[A\n",
      " 55%|██████████████████████████████████████████▋                                   | 2727/4986 [00:33<00:27, 80.74it/s]\u001b[A\n",
      " 55%|██████████████████████████████████████████▊                                   | 2736/4986 [00:33<00:27, 80.54it/s]\u001b[A\n"
     ]
    },
    {
     "name": "stderr",
     "output_type": "stream",
     "text": [
      " 55%|██████████████████████████████████████████▉                                   | 2745/4986 [00:33<00:27, 81.78it/s]\u001b[A\n",
      " 55%|███████████████████████████████████████████                                   | 2754/4986 [00:33<00:27, 82.46it/s]\u001b[A\n",
      " 55%|███████████████████████████████████████████▏                                  | 2763/4986 [00:33<00:32, 69.05it/s]\u001b[A\n",
      " 56%|███████████████████████████████████████████▎                                  | 2771/4986 [00:34<00:32, 68.07it/s]\u001b[A\n",
      " 56%|███████████████████████████████████████████▍                                  | 2780/4986 [00:34<00:30, 72.99it/s]\u001b[A\n",
      " 56%|███████████████████████████████████████████▋                                  | 2791/4986 [00:34<00:27, 79.95it/s]\u001b[A\n",
      " 56%|███████████████████████████████████████████▊                                  | 2800/4986 [00:34<00:29, 74.09it/s]\u001b[A\n",
      " 56%|███████████████████████████████████████████▉                                  | 2808/4986 [00:34<00:35, 61.58it/s]\u001b[A\n",
      " 57%|████████████████████████████████████████████                                  | 2818/4986 [00:34<00:30, 70.18it/s]\u001b[A\n",
      " 57%|████████████████████████████████████████████▏                                 | 2826/4986 [00:34<00:36, 58.43it/s]\u001b[A\n",
      " 57%|████████████████████████████████████████████▎                                 | 2834/4986 [00:35<00:35, 61.42it/s]\u001b[A\n",
      " 57%|████████████████████████████████████████████▍                                 | 2841/4986 [00:35<00:35, 60.46it/s]\u001b[A\n",
      " 57%|████████████████████████████████████████████▌                                 | 2848/4986 [00:35<00:34, 62.17it/s]\u001b[A\n",
      " 57%|████████████████████████████████████████████▋                                 | 2857/4986 [00:35<00:31, 68.13it/s]\u001b[A\n",
      " 57%|████████████████████████████████████████████▊                                 | 2865/4986 [00:35<00:31, 67.03it/s]\u001b[A\n",
      " 58%|████████████████████████████████████████████▉                                 | 2872/4986 [00:35<00:31, 67.11it/s]\u001b[A\n",
      " 58%|█████████████████████████████████████████████                                 | 2879/4986 [00:35<00:31, 66.65it/s]\u001b[A\n",
      " 58%|█████████████████████████████████████████████▏                                | 2886/4986 [00:35<00:31, 66.30it/s]\u001b[A\n",
      " 58%|█████████████████████████████████████████████▎                                | 2893/4986 [00:35<00:33, 62.48it/s]\u001b[A\n",
      " 58%|█████████████████████████████████████████████▍                                | 2904/4986 [00:36<00:28, 73.90it/s]\u001b[A\n",
      " 58%|█████████████████████████████████████████████▌                                | 2912/4986 [00:36<00:30, 67.12it/s]\u001b[A\n",
      " 59%|█████████████████████████████████████████████▋                                | 2919/4986 [00:36<00:32, 63.15it/s]\u001b[A\n",
      " 59%|█████████████████████████████████████████████▊                                | 2926/4986 [00:36<00:40, 51.13it/s]\u001b[A\n",
      " 59%|█████████████████████████████████████████████▊                                | 2932/4986 [00:36<00:38, 53.00it/s]\u001b[A\n",
      " 59%|█████████████████████████████████████████████▉                                | 2938/4986 [00:36<00:38, 53.16it/s]\u001b[A\n",
      " 59%|██████████████████████████████████████████████                                | 2948/4986 [00:36<00:32, 63.18it/s]\u001b[A\n",
      " 59%|██████████████████████████████████████████████▎                               | 2959/4986 [00:36<00:27, 74.54it/s]\u001b[A\n",
      " 60%|██████████████████████████████████████████████▍                               | 2967/4986 [00:37<00:28, 70.19it/s]\u001b[A\n",
      " 60%|██████████████████████████████████████████████▌                               | 2975/4986 [00:37<00:28, 71.31it/s]\u001b[A\n",
      " 60%|██████████████████████████████████████████████▋                               | 2985/4986 [00:37<00:25, 78.37it/s]\u001b[A\n",
      " 60%|██████████████████████████████████████████████▊                               | 2994/4986 [00:37<00:29, 67.79it/s]\u001b[A\n",
      " 60%|██████████████████████████████████████████████▉                               | 3002/4986 [00:37<00:29, 68.28it/s]\u001b[A\n",
      " 60%|███████████████████████████████████████████████                               | 3011/4986 [00:37<00:27, 72.15it/s]\u001b[A\n",
      " 61%|███████████████████████████████████████████████▏                              | 3019/4986 [00:37<00:28, 69.66it/s]\u001b[A\n",
      " 61%|███████████████████████████████████████████████▎                              | 3028/4986 [00:37<00:26, 73.06it/s]\u001b[A\n",
      " 61%|███████████████████████████████████████████████▌                              | 3039/4986 [00:38<00:23, 81.36it/s]\u001b[A\n",
      " 61%|███████████████████████████████████████████████▋                              | 3051/4986 [00:38<00:22, 87.36it/s]\u001b[A\n",
      " 61%|███████████████████████████████████████████████▊                              | 3060/4986 [00:38<00:24, 78.38it/s]\u001b[A\n",
      " 62%|████████████████████████████████████████████████                              | 3070/4986 [00:38<00:22, 83.48it/s]\u001b[A\n",
      " 62%|████████████████████████████████████████████████▏                             | 3079/4986 [00:38<00:22, 84.77it/s]\u001b[A\n",
      " 62%|████████████████████████████████████████████████▍                             | 3093/4986 [00:38<00:18, 99.67it/s]\u001b[A\n",
      " 62%|████████████████████████████████████████████████▌                             | 3104/4986 [00:38<00:21, 86.81it/s]\u001b[A\n",
      " 62%|████████████████████████████████████████████████▋                             | 3115/4986 [00:38<00:20, 92.01it/s]\u001b[A\n",
      " 63%|████████████████████████████████████████████████▉                             | 3125/4986 [00:39<00:23, 80.15it/s]\u001b[A\n",
      " 63%|█████████████████████████████████████████████████                             | 3134/4986 [00:39<00:27, 67.19it/s]\u001b[A\n",
      " 63%|█████████████████████████████████████████████████▏                            | 3142/4986 [00:39<00:32, 57.27it/s]\u001b[A\n",
      " 63%|█████████████████████████████████████████████████▎                            | 3149/4986 [00:39<00:34, 53.72it/s]\u001b[A\n",
      " 63%|█████████████████████████████████████████████████▎                            | 3155/4986 [00:39<00:40, 45.64it/s]\u001b[A\n",
      " 64%|█████████████████████████████████████████████████▌                            | 3169/4986 [00:39<00:28, 63.93it/s]\u001b[A\n",
      " 64%|█████████████████████████████████████████████████▊                            | 3182/4986 [00:39<00:23, 77.64it/s]\u001b[A\n",
      " 64%|█████████████████████████████████████████████████▉                            | 3192/4986 [00:40<00:22, 80.65it/s]\u001b[A\n",
      " 64%|██████████████████████████████████████████████████                            | 3201/4986 [00:40<00:23, 77.07it/s]\u001b[A\n",
      " 64%|██████████████████████████████████████████████████▏                           | 3210/4986 [00:40<00:24, 73.06it/s]\u001b[A\n",
      " 65%|██████████████████████████████████████████████████▎                           | 3218/4986 [00:40<00:25, 69.52it/s]\u001b[A\n",
      " 65%|██████████████████████████████████████████████████▌                           | 3232/4986 [00:40<00:20, 85.90it/s]\u001b[A\n",
      " 65%|██████████████████████████████████████████████████▋                           | 3243/4986 [00:40<00:19, 91.40it/s]\u001b[A\n",
      " 65%|██████████████████████████████████████████████████▉                           | 3253/4986 [00:40<00:22, 75.79it/s]\u001b[A\n",
      " 65%|███████████████████████████████████████████████████                           | 3262/4986 [00:41<00:26, 64.42it/s]\u001b[A\n",
      " 66%|███████████████████████████████████████████████████▏                          | 3270/4986 [00:41<00:27, 62.54it/s]\u001b[A\n",
      " 66%|███████████████████████████████████████████████████▎                          | 3277/4986 [00:41<00:32, 52.39it/s]\u001b[A\n",
      " 66%|███████████████████████████████████████████████████▎                          | 3284/4986 [00:41<00:31, 54.66it/s]\u001b[A\n",
      " 66%|███████████████████████████████████████████████████▍                          | 3291/4986 [00:41<00:30, 54.68it/s]\u001b[A\n",
      " 66%|███████████████████████████████████████████████████▌                          | 3299/4986 [00:41<00:28, 60.10it/s]\u001b[A\n",
      " 66%|███████████████████████████████████████████████████▋                          | 3307/4986 [00:41<00:26, 64.37it/s]\u001b[A\n",
      " 67%|███████████████████████████████████████████████████▉                          | 3317/4986 [00:41<00:22, 73.02it/s]\u001b[A\n",
      " 67%|████████████████████████████████████████████████████                          | 3325/4986 [00:42<00:26, 63.79it/s]\u001b[A\n"
     ]
    },
    {
     "name": "stderr",
     "output_type": "stream",
     "text": [
      " 67%|████████████████████████████████████████████████████▏                         | 3335/4986 [00:42<00:22, 72.00it/s]\u001b[A\n",
      " 67%|████████████████████████████████████████████████████▎                         | 3343/4986 [00:42<00:22, 71.67it/s]\u001b[A\n",
      " 67%|████████████████████████████████████████████████████▍                         | 3351/4986 [00:42<00:26, 60.78it/s]\u001b[A\n",
      " 67%|████████████████████████████████████████████████████▌                         | 3362/4986 [00:42<00:22, 71.90it/s]\u001b[A\n",
      " 68%|████████████████████████████████████████████████████▊                         | 3373/4986 [00:42<00:20, 78.15it/s]\u001b[A\n",
      " 68%|████████████████████████████████████████████████████▉                         | 3382/4986 [00:42<00:19, 80.99it/s]\u001b[A\n",
      " 68%|█████████████████████████████████████████████████████                         | 3391/4986 [00:43<00:20, 77.22it/s]\u001b[A\n",
      " 68%|█████████████████████████████████████████████████████▏                        | 3400/4986 [00:43<00:21, 72.27it/s]\u001b[A\n",
      " 68%|█████████████████████████████████████████████████████▎                        | 3408/4986 [00:43<00:24, 64.94it/s]\u001b[A\n",
      " 68%|█████████████████████████████████████████████████████▍                        | 3415/4986 [00:43<00:31, 50.40it/s]\u001b[A\n",
      " 69%|█████████████████████████████████████████████████████▌                        | 3422/4986 [00:43<00:33, 46.45it/s]\u001b[A\n",
      " 69%|█████████████████████████████████████████████████████▋                        | 3429/4986 [00:43<00:30, 50.68it/s]\u001b[A\n",
      " 69%|█████████████████████████████████████████████████████▋                        | 3435/4986 [00:43<00:33, 46.48it/s]\u001b[A\n",
      " 69%|█████████████████████████████████████████████████████▊                        | 3441/4986 [00:44<00:37, 41.64it/s]\u001b[A\n",
      " 69%|█████████████████████████████████████████████████████▉                        | 3447/4986 [00:44<00:35, 42.79it/s]\u001b[A\n",
      " 69%|██████████████████████████████████████████████████████                        | 3452/4986 [00:44<00:41, 37.11it/s]\u001b[A\n",
      " 69%|██████████████████████████████████████████████████████                        | 3456/4986 [00:44<00:40, 37.49it/s]\u001b[A\n",
      " 69%|██████████████████████████████████████████████████████▏                       | 3461/4986 [00:44<00:39, 38.92it/s]\u001b[A\n",
      " 70%|██████████████████████████████████████████████████████▎                       | 3468/4986 [00:44<00:33, 44.95it/s]\u001b[A\n",
      " 70%|██████████████████████████████████████████████████████▍                       | 3477/4986 [00:44<00:27, 55.59it/s]\u001b[A\n",
      " 70%|██████████████████████████████████████████████████████▌                       | 3487/4986 [00:45<00:23, 63.21it/s]\u001b[A\n",
      " 70%|██████████████████████████████████████████████████████▊                       | 3501/4986 [00:45<00:18, 81.02it/s]\u001b[A\n",
      " 70%|██████████████████████████████████████████████████████▉                       | 3510/4986 [00:45<00:18, 77.81it/s]\u001b[A\n",
      " 71%|███████████████████████████████████████████████████████                       | 3519/4986 [00:45<00:23, 62.06it/s]\u001b[A\n",
      " 71%|███████████████████████████████████████████████████████▏                      | 3527/4986 [00:45<00:22, 65.54it/s]\u001b[A\n",
      " 71%|███████████████████████████████████████████████████████▍                      | 3541/4986 [00:45<00:17, 81.83it/s]\u001b[A\n",
      " 71%|███████████████████████████████████████████████████████▌                      | 3551/4986 [00:45<00:17, 84.35it/s]\u001b[A\n",
      " 71%|███████████████████████████████████████████████████████▋                      | 3560/4986 [00:45<00:18, 78.87it/s]\u001b[A\n",
      " 72%|███████████████████████████████████████████████████████▊                      | 3569/4986 [00:46<00:24, 58.62it/s]\u001b[A\n",
      " 72%|███████████████████████████████████████████████████████▉                      | 3576/4986 [00:46<00:27, 51.42it/s]\u001b[A\n",
      " 72%|████████████████████████████████████████████████████████                      | 3582/4986 [00:46<00:33, 41.83it/s]\u001b[A\n",
      " 72%|████████████████████████████████████████████████████████                      | 3587/4986 [00:46<00:33, 41.15it/s]\u001b[A\n",
      " 72%|████████████████████████████████████████████████████████▏                     | 3593/4986 [00:46<00:31, 43.60it/s]\u001b[A\n",
      " 72%|████████████████████████████████████████████████████████▎                     | 3599/4986 [00:46<00:29, 46.47it/s]\u001b[A\n",
      " 72%|████████████████████████████████████████████████████████▍                     | 3605/4986 [00:47<00:29, 47.00it/s]\u001b[A\n",
      " 72%|████████████████████████████████████████████████████████▍                     | 3610/4986 [00:47<00:32, 42.46it/s]\u001b[A\n",
      " 73%|████████████████████████████████████████████████████████▌                     | 3615/4986 [00:47<00:34, 39.44it/s]\u001b[A\n",
      " 73%|████████████████████████████████████████████████████████▋                     | 3623/4986 [00:47<00:28, 48.31it/s]\u001b[A\n",
      " 73%|████████████████████████████████████████████████████████▊                     | 3629/4986 [00:47<00:26, 50.69it/s]\u001b[A\n",
      " 73%|████████████████████████████████████████████████████████▊                     | 3635/4986 [00:47<00:26, 50.74it/s]\u001b[A\n",
      " 73%|████████████████████████████████████████████████████████▉                     | 3641/4986 [00:47<00:27, 49.19it/s]\u001b[A\n",
      " 73%|█████████████████████████████████████████████████████████                     | 3649/4986 [00:47<00:23, 56.80it/s]\u001b[A\n",
      " 73%|█████████████████████████████████████████████████████████▏                    | 3655/4986 [00:48<00:25, 51.24it/s]\u001b[A\n",
      " 73%|█████████████████████████████████████████████████████████▎                    | 3661/4986 [00:48<00:24, 53.19it/s]\u001b[A\n",
      " 74%|█████████████████████████████████████████████████████████▍                    | 3671/4986 [00:48<00:20, 64.39it/s]\u001b[A\n",
      " 74%|█████████████████████████████████████████████████████████▌                    | 3678/4986 [00:48<00:20, 64.35it/s]\u001b[A\n",
      " 74%|█████████████████████████████████████████████████████████▋                    | 3687/4986 [00:48<00:18, 70.81it/s]\u001b[A\n",
      " 74%|█████████████████████████████████████████████████████████▊                    | 3695/4986 [00:48<00:18, 70.25it/s]\u001b[A\n",
      " 74%|█████████████████████████████████████████████████████████▉                    | 3703/4986 [00:48<00:19, 65.60it/s]\u001b[A\n",
      " 74%|██████████████████████████████████████████████████████████                    | 3714/4986 [00:48<00:16, 76.65it/s]\u001b[A\n",
      " 75%|██████████████████████████████████████████████████████████▏                   | 3723/4986 [00:49<00:16, 77.15it/s]\u001b[A\n",
      " 75%|██████████████████████████████████████████████████████████▎                   | 3731/4986 [00:49<00:16, 76.48it/s]\u001b[A\n",
      " 75%|██████████████████████████████████████████████████████████▍                   | 3739/4986 [00:49<00:16, 74.00it/s]\u001b[A\n",
      " 75%|██████████████████████████████████████████████████████████▌                   | 3747/4986 [00:49<00:19, 62.79it/s]\u001b[A\n",
      " 75%|██████████████████████████████████████████████████████████▋                   | 3754/4986 [00:49<00:19, 64.25it/s]\u001b[A\n",
      " 75%|██████████████████████████████████████████████████████████▊                   | 3762/4986 [00:49<00:18, 67.28it/s]\u001b[A\n",
      " 76%|███████████████████████████████████████████████████████████                   | 3772/4986 [00:49<00:16, 75.41it/s]\u001b[A\n",
      " 76%|███████████████████████████████████████████████████████████▏                  | 3781/4986 [00:49<00:15, 78.77it/s]\u001b[A\n",
      " 76%|███████████████████████████████████████████████████████████▎                  | 3790/4986 [00:49<00:16, 73.21it/s]\u001b[A\n",
      " 76%|███████████████████████████████████████████████████████████▍                  | 3798/4986 [00:50<00:16, 70.46it/s]\u001b[A\n",
      " 76%|███████████████████████████████████████████████████████████▌                  | 3806/4986 [00:50<00:21, 54.69it/s]\u001b[A\n",
      " 76%|███████████████████████████████████████████████████████████▋                  | 3813/4986 [00:50<00:21, 55.85it/s]\u001b[A\n",
      " 77%|███████████████████████████████████████████████████████████▊                  | 3822/4986 [00:50<00:18, 63.31it/s]\u001b[A\n",
      " 77%|███████████████████████████████████████████████████████████▉                  | 3830/4986 [00:50<00:17, 65.03it/s]\u001b[A\n",
      " 77%|████████████████████████████████████████████████████████████                  | 3837/4986 [00:50<00:17, 64.34it/s]\u001b[A\n",
      " 77%|████████████████████████████████████████████████████████████▏                 | 3844/4986 [00:50<00:19, 59.34it/s]\u001b[A\n"
     ]
    },
    {
     "name": "stderr",
     "output_type": "stream",
     "text": [
      " 77%|████████████████████████████████████████████████████████████▏                 | 3851/4986 [00:51<00:20, 56.63it/s]\u001b[A\n",
      " 77%|████████████████████████████████████████████████████████████▎                 | 3857/4986 [00:51<00:28, 39.44it/s]\u001b[A\n",
      " 77%|████████████████████████████████████████████████████████████▍                 | 3862/4986 [00:51<00:31, 36.21it/s]\u001b[A\n",
      " 78%|████████████████████████████████████████████████████████████▍                 | 3867/4986 [00:51<00:33, 33.82it/s]\u001b[A\n",
      " 78%|████████████████████████████████████████████████████████████▋                 | 3879/4986 [00:51<00:22, 49.03it/s]\u001b[A\n",
      " 78%|████████████████████████████████████████████████████████████▊                 | 3885/4986 [00:51<00:21, 50.62it/s]\u001b[A\n",
      " 78%|████████████████████████████████████████████████████████████▊                 | 3891/4986 [00:52<00:21, 51.95it/s]\u001b[A\n",
      " 78%|█████████████████████████████████████████████████████████████                 | 3903/4986 [00:52<00:16, 65.87it/s]\u001b[A\n",
      " 78%|█████████████████████████████████████████████████████████████▏                | 3911/4986 [00:52<00:16, 64.11it/s]\u001b[A\n",
      " 79%|█████████████████████████████████████████████████████████████▎                | 3918/4986 [00:52<00:17, 62.04it/s]\u001b[A\n",
      " 79%|█████████████████████████████████████████████████████████████▍                | 3928/4986 [00:52<00:14, 70.89it/s]\u001b[A\n",
      " 79%|█████████████████████████████████████████████████████████████▌                | 3936/4986 [00:52<00:15, 69.99it/s]\u001b[A\n",
      " 79%|█████████████████████████████████████████████████████████████▋                | 3944/4986 [00:52<00:16, 61.60it/s]\u001b[A\n",
      " 79%|█████████████████████████████████████████████████████████████▊                | 3951/4986 [00:52<00:16, 62.73it/s]\u001b[A\n",
      " 79%|█████████████████████████████████████████████████████████████▉                | 3958/4986 [00:53<00:16, 62.83it/s]\u001b[A\n",
      " 80%|██████████████████████████████████████████████████████████████                | 3965/4986 [00:53<00:17, 58.46it/s]\u001b[A\n",
      " 80%|██████████████████████████████████████████████████████████████▏               | 3976/4986 [00:53<00:14, 68.03it/s]\u001b[A\n",
      " 80%|██████████████████████████████████████████████████████████████▎               | 3984/4986 [00:53<00:14, 69.50it/s]\u001b[A\n",
      " 80%|██████████████████████████████████████████████████████████████▍               | 3992/4986 [00:53<00:14, 68.92it/s]\u001b[A\n",
      " 80%|██████████████████████████████████████████████████████████████▌               | 3999/4986 [00:53<00:14, 67.09it/s]\u001b[A\n",
      " 80%|██████████████████████████████████████████████████████████████▋               | 4006/4986 [00:53<00:15, 62.22it/s]\u001b[A\n",
      " 80%|██████████████████████████████████████████████████████████████▊               | 4013/4986 [00:53<00:16, 58.48it/s]\u001b[A\n",
      " 81%|██████████████████████████████████████████████████████████████▉               | 4023/4986 [00:53<00:14, 68.28it/s]\u001b[A\n",
      " 81%|███████████████████████████████████████████████████████████████               | 4031/4986 [00:54<00:15, 61.65it/s]\u001b[A\n",
      " 81%|███████████████████████████████████████████████████████████████▏              | 4040/4986 [00:54<00:13, 68.44it/s]\u001b[A\n",
      " 81%|███████████████████████████████████████████████████████████████▎              | 4048/4986 [00:54<00:13, 67.92it/s]\u001b[A\n",
      " 81%|███████████████████████████████████████████████████████████████▍              | 4056/4986 [00:54<00:15, 59.35it/s]\u001b[A\n",
      " 81%|███████████████████████████████████████████████████████████████▌              | 4063/4986 [00:54<00:15, 61.51it/s]\u001b[A\n",
      " 82%|███████████████████████████████████████████████████████████████▋              | 4070/4986 [00:54<00:16, 54.12it/s]\u001b[A\n",
      " 82%|███████████████████████████████████████████████████████████████▊              | 4079/4986 [00:54<00:14, 60.96it/s]\u001b[A\n",
      " 82%|███████████████████████████████████████████████████████████████▉              | 4086/4986 [00:55<00:17, 51.75it/s]\u001b[A\n",
      " 82%|████████████████████████████████████████████████████████████████              | 4092/4986 [00:55<00:17, 50.76it/s]\u001b[A\n",
      " 82%|████████████████████████████████████████████████████████████████▏             | 4101/4986 [00:55<00:15, 58.11it/s]\u001b[A\n",
      " 82%|████████████████████████████████████████████████████████████████▎             | 4108/4986 [00:55<00:15, 55.60it/s]\u001b[A\n",
      " 83%|████████████████████████████████████████████████████████████████▎             | 4115/4986 [00:55<00:14, 59.00it/s]\u001b[A\n",
      " 83%|████████████████████████████████████████████████████████████████▍             | 4123/4986 [00:55<00:13, 63.77it/s]\u001b[A\n",
      " 83%|████████████████████████████████████████████████████████████████▌             | 4131/4986 [00:55<00:12, 66.16it/s]\u001b[A\n",
      " 83%|████████████████████████████████████████████████████████████████▋             | 4138/4986 [00:55<00:12, 66.84it/s]\u001b[A\n",
      " 83%|████████████████████████████████████████████████████████████████▉             | 4151/4986 [00:56<00:10, 83.19it/s]\u001b[A\n",
      " 84%|█████████████████████████████████████████████████████████████████▏            | 4166/4986 [00:56<00:08, 99.45it/s]\u001b[A\n",
      " 84%|█████████████████████████████████████████████████████████████████▎            | 4177/4986 [00:56<00:08, 93.02it/s]\u001b[A\n",
      " 84%|█████████████████████████████████████████████████████████████████▌            | 4187/4986 [00:56<00:09, 81.41it/s]\u001b[A\n",
      " 84%|█████████████████████████████████████████████████████████████████▋            | 4197/4986 [00:56<00:09, 85.38it/s]\u001b[A\n",
      " 84%|█████████████████████████████████████████████████████████████████▊            | 4210/4986 [00:56<00:08, 95.72it/s]\u001b[A\n",
      " 85%|██████████████████████████████████████████████████████████████████            | 4221/4986 [00:56<00:07, 99.30it/s]\u001b[A\n",
      " 85%|██████████████████████████████████████████████████████████████████▏           | 4232/4986 [00:56<00:08, 90.30it/s]\u001b[A\n",
      " 85%|██████████████████████████████████████████████████████████████████▎           | 4242/4986 [00:56<00:08, 89.58it/s]\u001b[A\n",
      " 85%|██████████████████████████████████████████████████████████████████▌           | 4254/4986 [00:57<00:07, 96.82it/s]\u001b[A\n",
      " 86%|██████████████████████████████████████████████████████████████████▋           | 4264/4986 [00:57<00:08, 85.49it/s]\u001b[A\n",
      " 86%|██████████████████████████████████████████████████████████████████▊           | 4273/4986 [00:57<00:08, 79.58it/s]\u001b[A\n",
      " 86%|██████████████████████████████████████████████████████████████████▉           | 4282/4986 [00:57<00:08, 79.04it/s]\u001b[A\n",
      " 86%|███████████████████████████████████████████████████████████████████▏          | 4291/4986 [00:57<00:09, 71.34it/s]\u001b[A\n",
      " 86%|███████████████████████████████████████████████████████████████████▎          | 4299/4986 [00:57<00:10, 66.11it/s]\u001b[A\n",
      " 86%|███████████████████████████████████████████████████████████████████▎          | 4306/4986 [00:57<00:10, 63.44it/s]\u001b[A\n",
      " 87%|███████████████████████████████████████████████████████████████████▍          | 4313/4986 [00:58<00:11, 60.90it/s]\u001b[A\n",
      " 87%|███████████████████████████████████████████████████████████████████▌          | 4320/4986 [00:58<00:10, 61.63it/s]\u001b[A\n",
      " 87%|███████████████████████████████████████████████████████████████████▋          | 4327/4986 [00:58<00:10, 60.10it/s]\u001b[A\n",
      " 87%|███████████████████████████████████████████████████████████████████▊          | 4334/4986 [00:58<00:11, 57.50it/s]\u001b[A\n",
      " 87%|███████████████████████████████████████████████████████████████████▉          | 4340/4986 [00:58<00:12, 50.86it/s]\u001b[A\n",
      " 87%|████████████████████████████████████████████████████████████████████          | 4348/4986 [00:58<00:11, 57.69it/s]\u001b[A\n",
      " 88%|████████████████████████████████████████████████████████████████████▎         | 4364/4986 [00:58<00:07, 80.02it/s]\u001b[A\n",
      " 88%|████████████████████████████████████████████████████████████████████▍         | 4373/4986 [00:58<00:07, 81.14it/s]\u001b[A\n",
      " 88%|████████████████████████████████████████████████████████████████████▌         | 4382/4986 [00:59<00:08, 74.24it/s]\u001b[A\n",
      " 88%|████████████████████████████████████████████████████████████████████▋         | 4391/4986 [00:59<00:07, 77.33it/s]\u001b[A\n",
      " 88%|████████████████████████████████████████████████████████████████████▉         | 4403/4986 [00:59<00:06, 88.32it/s]\u001b[A\n",
      " 89%|█████████████████████████████████████████████████████████████████████         | 4415/4986 [00:59<00:05, 96.18it/s]\u001b[A\n"
     ]
    },
    {
     "name": "stderr",
     "output_type": "stream",
     "text": [
      " 89%|█████████████████████████████████████████████████████████████████████▏        | 4425/4986 [00:59<00:06, 92.37it/s]\u001b[A\n",
      " 89%|████████████████████████████████████████████████████████████████████▌        | 4441/4986 [00:59<00:05, 108.56it/s]\u001b[A\n",
      " 89%|████████████████████████████████████████████████████████████████████▊        | 4453/4986 [00:59<00:04, 108.15it/s]\u001b[A\n",
      " 90%|████████████████████████████████████████████████████████████████████▉        | 4464/4986 [00:59<00:04, 106.90it/s]\u001b[A\n",
      " 90%|█████████████████████████████████████████████████████████████████████▏       | 4477/4986 [00:59<00:04, 112.45it/s]\u001b[A\n",
      " 90%|█████████████████████████████████████████████████████████████████████▎       | 4489/4986 [01:00<00:04, 105.15it/s]\u001b[A\n",
      " 90%|██████████████████████████████████████████████████████████████████████▍       | 4500/4986 [01:00<00:05, 96.77it/s]\u001b[A\n",
      " 90%|██████████████████████████████████████████████████████████████████████▌       | 4510/4986 [01:00<00:05, 93.72it/s]\u001b[A\n",
      " 91%|█████████████████████████████████████████████████████████████████████▉       | 4527/4986 [01:00<00:04, 111.19it/s]\u001b[A\n",
      " 91%|██████████████████████████████████████████████████████████████████████       | 4539/4986 [01:00<00:04, 108.61it/s]\u001b[A\n",
      " 91%|██████████████████████████████████████████████████████████████████████▎      | 4551/4986 [01:00<00:04, 102.10it/s]\u001b[A\n",
      " 92%|██████████████████████████████████████████████████████████████████████▍      | 4564/4986 [01:00<00:03, 108.79it/s]\u001b[A\n",
      " 92%|██████████████████████████████████████████████████████████████████████▋      | 4577/4986 [01:00<00:03, 106.49it/s]\u001b[A\n",
      " 92%|██████████████████████████████████████████████████████████████████████▊      | 4588/4986 [01:00<00:03, 103.61it/s]\u001b[A\n",
      " 92%|███████████████████████████████████████████████████████████████████████      | 4599/4986 [01:01<00:03, 101.28it/s]\u001b[A\n",
      " 92%|████████████████████████████████████████████████████████████████████████      | 4610/4986 [01:01<00:04, 77.78it/s]\u001b[A\n",
      " 93%|████████████████████████████████████████████████████████████████████████▎     | 4619/4986 [01:01<00:05, 65.63it/s]\u001b[A\n",
      " 93%|████████████████████████████████████████████████████████████████████████▍     | 4627/4986 [01:01<00:05, 63.01it/s]\u001b[A\n",
      " 93%|████████████████████████████████████████████████████████████████████████▍     | 4634/4986 [01:01<00:05, 60.88it/s]\u001b[A\n",
      " 93%|████████████████████████████████████████████████████████████████████████▌     | 4641/4986 [01:01<00:05, 58.49it/s]\u001b[A\n",
      " 93%|████████████████████████████████████████████████████████████████████████▋     | 4648/4986 [01:02<00:06, 55.20it/s]\u001b[A\n",
      " 93%|████████████████████████████████████████████████████████████████████████▊     | 4656/4986 [01:02<00:05, 60.58it/s]\u001b[A\n",
      " 94%|████████████████████████████████████████████████████████████████████████▉     | 4664/4986 [01:02<00:05, 63.74it/s]\u001b[A\n",
      " 94%|█████████████████████████████████████████████████████████████████████████     | 4671/4986 [01:02<00:04, 63.25it/s]\u001b[A\n",
      " 94%|█████████████████████████████████████████████████████████████████████████▏    | 4678/4986 [01:02<00:04, 63.21it/s]\u001b[A\n",
      " 94%|█████████████████████████████████████████████████████████████████████████▎    | 4686/4986 [01:02<00:04, 64.26it/s]\u001b[A\n",
      " 94%|█████████████████████████████████████████████████████████████████████████▍    | 4693/4986 [01:02<00:06, 45.20it/s]\u001b[A\n",
      " 94%|█████████████████████████████████████████████████████████████████████████▌    | 4699/4986 [01:03<00:06, 43.51it/s]\u001b[A\n",
      " 94%|█████████████████████████████████████████████████████████████████████████▌    | 4706/4986 [01:03<00:06, 46.11it/s]\u001b[A\n",
      " 95%|█████████████████████████████████████████████████████████████████████████▋    | 4712/4986 [01:03<00:06, 42.77it/s]\u001b[A\n",
      " 95%|█████████████████████████████████████████████████████████████████████████▊    | 4718/4986 [01:03<00:05, 45.69it/s]\u001b[A\n",
      " 95%|█████████████████████████████████████████████████████████████████████████▉    | 4726/4986 [01:03<00:04, 53.40it/s]\u001b[A\n",
      " 95%|██████████████████████████████████████████████████████████████████████████    | 4734/4986 [01:03<00:04, 55.72it/s]\u001b[A\n",
      " 95%|██████████████████████████████████████████████████████████████████████████▏   | 4740/4986 [01:03<00:04, 51.79it/s]\u001b[A\n",
      " 95%|██████████████████████████████████████████████████████████████████████████▎   | 4747/4986 [01:03<00:04, 55.56it/s]\u001b[A\n",
      " 95%|██████████████████████████████████████████████████████████████████████████▎   | 4753/4986 [01:04<00:04, 56.13it/s]\u001b[A\n",
      " 96%|██████████████████████████████████████████████████████████████████████████▌   | 4764/4986 [01:04<00:03, 69.54it/s]\u001b[A\n",
      " 96%|██████████████████████████████████████████████████████████████████████████▋   | 4776/4986 [01:04<00:02, 81.97it/s]\u001b[A\n",
      " 96%|██████████████████████████████████████████████████████████████████████████▊   | 4785/4986 [01:04<00:02, 83.29it/s]\u001b[A\n",
      " 96%|██████████████████████████████████████████████████████████████████████████▉   | 4794/4986 [01:04<00:02, 79.45it/s]\u001b[A\n",
      " 96%|███████████████████████████████████████████████████████████████████████████▏  | 4803/4986 [01:04<00:02, 79.10it/s]\u001b[A\n",
      " 97%|███████████████████████████████████████████████████████████████████████████▎  | 4812/4986 [01:04<00:02, 77.84it/s]\u001b[A\n",
      " 97%|███████████████████████████████████████████████████████████████████████████▍  | 4820/4986 [01:04<00:02, 77.81it/s]\u001b[A\n",
      " 97%|███████████████████████████████████████████████████████████████████████████▌  | 4831/4986 [01:04<00:01, 85.54it/s]\u001b[A\n",
      " 97%|███████████████████████████████████████████████████████████████████████████▋  | 4840/4986 [01:05<00:01, 82.20it/s]\u001b[A\n",
      " 97%|███████████████████████████████████████████████████████████████████████████▊  | 4849/4986 [01:05<00:01, 75.25it/s]\u001b[A\n",
      " 97%|████████████████████████████████████████████████████████████████████████████  | 4859/4986 [01:05<00:01, 81.06it/s]\u001b[A\n",
      " 98%|████████████████████████████████████████████████████████████████████████████▏ | 4868/4986 [01:05<00:01, 82.15it/s]\u001b[A\n",
      " 98%|████████████████████████████████████████████████████████████████████████████▎ | 4877/4986 [01:05<00:01, 70.12it/s]\u001b[A\n",
      " 98%|████████████████████████████████████████████████████████████████████████████▍ | 4887/4986 [01:05<00:01, 77.10it/s]\u001b[A\n",
      " 98%|████████████████████████████████████████████████████████████████████████████▌ | 4896/4986 [01:05<00:01, 75.93it/s]\u001b[A\n",
      " 99%|████████████████████████████████████████████████████████████████████████████▊ | 4913/4986 [01:05<00:00, 99.78it/s]\u001b[A\n",
      " 99%|████████████████████████████████████████████████████████████████████████████ | 4924/4986 [01:06<00:00, 100.12it/s]\u001b[A\n",
      " 99%|█████████████████████████████████████████████████████████████████████████████▏| 4935/4986 [01:06<00:00, 99.58it/s]\u001b[A\n",
      " 99%|█████████████████████████████████████████████████████████████████████████████▎| 4946/4986 [01:06<00:00, 93.49it/s]\u001b[A\n",
      " 99%|█████████████████████████████████████████████████████████████████████████████▌| 4956/4986 [01:06<00:00, 94.47it/s]\u001b[A\n",
      "100%|█████████████████████████████████████████████████████████████████████████████▋| 4966/4986 [01:06<00:00, 95.73it/s]\u001b[A\n",
      "100%|██████████████████████████████████████████████████████████████████████████████| 4986/4986 [01:06<00:00, 74.70it/s]\u001b[A\n"
     ]
    }
   ],
   "source": [
    "# TF-IDF weighted Word2Vec\n",
    "tfidf_feat = model.get_feature_names() # tfidf words/col-names\n",
    "# final_tf_idf is the sparse matrix with row= sentence, col=word and cell_val = tfidf\n",
    "\n",
    "tfidf_sent_vectors = []; # the tfidf-w2v for each sentence/review is stored in this list\n",
    "row=0;\n",
    "for sent in tqdm(list_of_sentance): # for each review/sentence \n",
    "    sent_vec = np.zeros(50) # as word vectors are of zero length\n",
    "    weight_sum =0; # num of words with a valid vector in the sentence/review\n",
    "    for word in sent: # for each word in a review/sentence\n",
    "        if word in w2v_words and word in tfidf_feat:\n",
    "            vec = w2v_model.wv[word] #获取单词向量\n",
    "#             tf_idf = tf_idf_matrix[row, tfidf_feat.index(word)]\n",
    "            # to reduce the computation we are \n",
    "            # dictionary[word] = idf value of word in whole courpus\n",
    "            # sent.count(word) = tf valeus of word in this review\n",
    "            tf_idf = dictionary[word]*(sent.count(word)/len(sent)) # 计算单词的 TF_idf 值\n",
    "            sent_vec += (vec * tf_idf) # 使用每个单词w2v的词向量 乘 每个单词tfidf 值\n",
    "            weight_sum += tf_idf # 整条句子或文档的单词tfidf值 之和\n",
    "    if weight_sum != 0: # 判断句子或文档的所有单词tfidf之和（也代表权重）\n",
    "        sent_vec /= weight_sum\n",
    "    tfidf_sent_vectors.append(sent_vec)\n",
    "    row += 1"
   ]
  },
  {
   "cell_type": "code",
   "execution_count": 196,
   "metadata": {},
   "outputs": [
    {
     "data": {
      "text/plain": [
       "array([ 0.00100918, -0.15597771,  0.31024251,  0.12611929, -0.17025163,\n",
       "       -0.11906175,  0.34171715,  0.47982336, -0.52208174,  0.11686204,\n",
       "       -0.11402395, -0.46576255,  0.07666173,  0.04265031, -0.33634634,\n",
       "       -0.04887438,  0.41632383, -0.04008497, -0.39672011, -0.24967404,\n",
       "        0.30743377,  0.01088023,  0.61645521, -0.1944395 ,  0.21748531,\n",
       "       -0.06704352, -0.33749178, -0.03285104, -0.60130909, -0.04988173,\n",
       "       -0.07671297,  0.19265709, -0.06980469,  0.18717916, -0.41533635,\n",
       "        0.21068519,  0.08078105,  0.04946352,  0.0701848 , -0.20286093,\n",
       "        0.50077391, -0.33802974, -0.01264728,  0.11371561,  0.81897904,\n",
       "        0.44688531, -0.10506315, -0.12543015,  0.40571027,  0.11252764])"
      ]
     },
     "execution_count": 196,
     "metadata": {},
     "output_type": "execute_result"
    }
   ],
   "source": [
    "tfidf_sent_vectors[0]"
   ]
  },
  {
   "cell_type": "markdown",
   "metadata": {
    "colab_type": "text",
    "id": "IjMcxjHfCAas"
   },
   "source": [
    "# [5] Applying TSNE"
   ]
  },
  {
   "cell_type": "markdown",
   "metadata": {
    "colab_type": "text",
    "id": "SPCsfz2fCAat"
   },
   "source": [
    "<ol> \n",
    "    <li> you need to plot 4 tsne plots with each of these feature set\n",
    "        <ol>\n",
    "            <li>Review text, preprocessed one converted into vectors using (BOW)</li>\n",
    "            <li>Review text, preprocessed one converted into vectors using (TFIDF)</li>\n",
    "            <li>Review text, preprocessed one converted into vectors using (AVG W2v)</li>\n",
    "            <li>Review text, preprocessed one converted into vectors using (TFIDF W2v)</li>\n",
    "        </ol>\n",
    "    </li>\n",
    "    <li> <font color='blue'>Note 1: The TSNE accepts only dense matrices</font></li>\n",
    "    <li> <font color='blue'>Note 2: Consider only 5k to 6k data points </font></li>\n",
    "</ol>"
   ]
  },
  {
   "cell_type": "code",
   "execution_count": 0,
   "metadata": {
    "colab": {
     "base_uri": "https://localhost:8080/",
     "height": 347
    },
    "colab_type": "code",
    "executionInfo": {
     "elapsed": 2114,
     "status": "ok",
     "timestamp": 1547365772849,
     "user": {
      "displayName": "Applied AI Course",
      "photoUrl": "https://lh3.googleusercontent.com/-EsJzSyawCkQ/AAAAAAAAAAI/AAAAAAAADag/xYU9KO6AZf4/s64/photo.jpg",
      "userId": "06629147635963609455"
     },
     "user_tz": -330
    },
    "id": "Z379u6ElCAat",
    "outputId": "47a20627-9d10-45c8-fe40-ecd0726e33c5"
   },
   "outputs": [
    {
     "data": {
      "image/png": "[encoded data removed]",
      "text/plain": [
       "<matplotlib.figure.Figure at 0x7f76c1df1da0>"
      ]
     },
     "metadata": {
      "tags": []
     },
     "output_type": "display_data"
    }
   ],
   "source": [
    "# https://github.com/pavlin-policar/fastTSNE you can try this also, this version is little faster than sklearn \n",
    "import numpy as np\n",
    "from sklearn.manifold import TSNE\n",
    "from sklearn import datasets\n",
    "import pandas as pd\n",
    "import matplotlib.pyplot as plt\n",
    "\n",
    "iris = datasets.load_iris()\n",
    "x = iris['data']\n",
    "y = iris['target']\n",
    "\n",
    "tsne = TSNE(n_components=2, perplexity=30, learning_rate=200)\n",
    "\n",
    "X_embedding = tsne.fit_transform(x)\n",
    "# if x is a sparse matrix you need to pass it as X_embedding = tsne.fit_transform(x.toarray()) , .toarray() will convert the sparse matrix into dense matrix\n",
    "\n",
    "for_tsne = np.hstack((X_embedding, y.reshape(-1,1)))\n",
    "for_tsne_df = pd.DataFrame(data=for_tsne, columns=['Dimension_x','Dimension_y','Score'])\n",
    "colors = {0:'red', 1:'blue', 2:'green'}\n",
    "plt.scatter(for_tsne_df['Dimension_x'], for_tsne_df['Dimension_y'], c=for_tsne_df['Score'].apply(lambda x: colors[x]))\n",
    "plt.show()"
   ]
  },
  {
   "cell_type": "markdown",
   "metadata": {
    "colab_type": "text",
    "id": "ejF91OEjCAaw"
   },
   "source": [
    "## [5.1] Applying TNSE on Text BOW vectors"
   ]
  },
  {
   "cell_type": "code",
   "execution_count": 0,
   "metadata": {
    "colab": {},
    "colab_type": "code",
    "id": "rnetKp45CAaw"
   },
   "outputs": [],
   "source": [
    "# please write all the code with proper documentation, and proper titles for each subsection\n",
    "# when you plot any graph make sure you use \n",
    "    # a. Title, that describes your plot, this will be very helpful to the reader\n",
    "    # b. Legends if needed\n",
    "    # c. X-axis label\n",
    "    # d. Y-axis label"
   ]
  },
  {
   "cell_type": "markdown",
   "metadata": {
    "colab_type": "text",
    "id": "b_-boR2SCAay"
   },
   "source": [
    "## [5.1] Applying TNSE on Text TFIDF vectors"
   ]
  },
  {
   "cell_type": "code",
   "execution_count": 0,
   "metadata": {
    "colab": {},
    "colab_type": "code",
    "id": "6eBTrer9CAay"
   },
   "outputs": [],
   "source": [
    "# please write all the code with proper documentation, and proper titles for each subsection\n",
    "# when you plot any graph make sure you use \n",
    "    # a. Title, that describes your plot, this will be very helpful to the reader\n",
    "    # b. Legends if needed\n",
    "    # c. X-axis label\n",
    "    # d. Y-axis label"
   ]
  },
  {
   "cell_type": "markdown",
   "metadata": {
    "colab_type": "text",
    "id": "zln2L0SUCAa0"
   },
   "source": [
    "## [5.3] Applying TNSE on Text Avg W2V vectors"
   ]
  },
  {
   "cell_type": "code",
   "execution_count": 0,
   "metadata": {
    "colab": {},
    "colab_type": "code",
    "id": "-YnpPa54CAa0"
   },
   "outputs": [],
   "source": [
    "# please write all the code with proper documentation, and proper titles for each subsection\n",
    "# when you plot any graph make sure you use \n",
    "    # a. Title, that describes your plot, this will be very helpful to the reader\n",
    "    # b. Legends if needed\n",
    "    # c. X-axis label\n",
    "    # d. Y-axis label"
   ]
  },
  {
   "cell_type": "markdown",
   "metadata": {
    "colab_type": "text",
    "id": "RBaVF4aHCAa4"
   },
   "source": [
    "## [5.4] Applying TNSE on Text TFIDF weighted W2V vectors"
   ]
  },
  {
   "cell_type": "code",
   "execution_count": 0,
   "metadata": {
    "colab": {},
    "colab_type": "code",
    "id": "xYysToufCAa4"
   },
   "outputs": [],
   "source": [
    "# please write all the code with proper documentation, and proper titles for each subsection\n",
    "# when you plot any graph make sure you use \n",
    "    # a. Title, that describes your plot, this will be very helpful to the reader\n",
    "    # b. Legends if needed\n",
    "    # c. X-axis label\n",
    "    # d. Y-axis label"
   ]
  },
  {
   "cell_type": "markdown",
   "metadata": {
    "colab_type": "text",
    "id": "jilexiiyCAa6"
   },
   "source": [
    "# [6] Conclusions"
   ]
  },
  {
   "cell_type": "code",
   "execution_count": 0,
   "metadata": {
    "colab": {},
    "colab_type": "code",
    "id": "TroM2UQUCAa7"
   },
   "outputs": [],
   "source": [
    "# Write few sentance about the results that you got and observation that you did from the analysis"
   ]
  },
  {
   "cell_type": "code",
   "execution_count": null,
   "metadata": {},
   "outputs": [],
   "source": []
  },
  {
   "cell_type": "code",
   "execution_count": null,
   "metadata": {},
   "outputs": [],
   "source": []
  }
 ],
 "metadata": {
  "accelerator": "GPU",
  "colab": {
   "collapsed_sections": [
    "9amw6tMZCAaL",
    "1dhfJZ7ZCAaR",
    "F--Xk5fhCAaV",
    "XnzP-eZdCAaa",
    "EPjGCg7UCAag",
    "oPxfYXhMCAag",
    "sKAEsZZLCAam",
    "ejF91OEjCAaw",
    "b_-boR2SCAay",
    "zln2L0SUCAa0",
    "RBaVF4aHCAa4"
   ],
   "name": "02 Amazon Fine Food Reviews Analysis_TSNE.ipynb",
   "provenance": []
  },
  "kernelspec": {
   "display_name": "Python 3",
   "language": "python",
   "name": "python3"
  },
  "language_info": {
   "codemirror_mode": {
    "name": "ipython",
    "version": 3
   },
   "file_extension": ".py",
   "mimetype": "text/x-python",
   "name": "python",
   "nbconvert_exporter": "python",
   "pygments_lexer": "ipython3",
   "version": "3.8.3"
  },
  "toc": {
   "base_numbering": 1,
   "nav_menu": {},
   "number_sections": true,
   "sideBar": true,
   "skip_h1_title": false,
   "title_cell": "Table of Contents",
   "title_sidebar": "Contents",
   "toc_cell": false,
   "toc_position": {
    "height": "calc(100% - 180px)",
    "left": "10px",
    "top": "150px",
    "width": "214.188px"
   },
   "toc_section_display": true,
   "toc_window_display": true
  }
 },
 "nbformat": 4,
 "nbformat_minor": 1
}
